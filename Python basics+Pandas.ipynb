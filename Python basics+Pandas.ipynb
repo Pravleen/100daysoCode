{
 "cells": [
  {
   "cell_type": "markdown",
   "metadata": {},
   "source": [
    "# PYTHON"
   ]
  },
  {
   "cell_type": "code",
   "execution_count": 1,
   "metadata": {},
   "outputs": [],
   "source": [
    "x=\"Hello World\""
   ]
  },
  {
   "cell_type": "code",
   "execution_count": 2,
   "metadata": {},
   "outputs": [
    {
     "data": {
      "text/plain": [
       "'Hello world'"
      ]
     },
     "execution_count": 2,
     "metadata": {},
     "output_type": "execute_result"
    }
   ],
   "source": [
    "x.capitalize()"
   ]
  },
  {
   "cell_type": "code",
   "execution_count": 3,
   "metadata": {},
   "outputs": [],
   "source": [
    "p= lambda a: a+5"
   ]
  },
  {
   "cell_type": "code",
   "execution_count": 4,
   "metadata": {},
   "outputs": [
    {
     "data": {
      "text/plain": [
       "15"
      ]
     },
     "execution_count": 4,
     "metadata": {},
     "output_type": "execute_result"
    }
   ],
   "source": [
    "p(10)"
   ]
  },
  {
   "cell_type": "code",
   "execution_count": 5,
   "metadata": {},
   "outputs": [],
   "source": [
    "def addFive(a):\n",
    "    return(a+5)"
   ]
  },
  {
   "cell_type": "code",
   "execution_count": 6,
   "metadata": {},
   "outputs": [],
   "source": [
    "lst=[2,4,6,2,3,4,5]\n"
   ]
  },
  {
   "cell_type": "code",
   "execution_count": 7,
   "metadata": {},
   "outputs": [
    {
     "data": {
      "text/plain": [
       "[7, 9, 11, 7, 8, 9, 10]"
      ]
     },
     "execution_count": 7,
     "metadata": {},
     "output_type": "execute_result"
    }
   ],
   "source": [
    "list(map(addFive,lst))"
   ]
  },
  {
   "cell_type": "code",
   "execution_count": 8,
   "metadata": {},
   "outputs": [
    {
     "data": {
      "text/plain": [
       "[2, 4, 6, 2, 4]"
      ]
     },
     "execution_count": 8,
     "metadata": {},
     "output_type": "execute_result"
    }
   ],
   "source": [
    "list(filter(lambda a: a%2==0,lst))"
   ]
  },
  {
   "cell_type": "markdown",
   "metadata": {},
   "source": [
    "# What is 3.3 to the power of 5"
   ]
  },
  {
   "cell_type": "code",
   "execution_count": 9,
   "metadata": {},
   "outputs": [
    {
     "data": {
      "text/plain": [
       "391.3539299999999"
      ]
     },
     "execution_count": 9,
     "metadata": {},
     "output_type": "execute_result"
    }
   ],
   "source": [
    "3.3**5"
   ]
  },
  {
   "cell_type": "markdown",
   "metadata": {},
   "source": [
    "# Create one dummy 10 character string and reverse it."
   ]
  },
  {
   "cell_type": "code",
   "execution_count": 10,
   "metadata": {},
   "outputs": [
    {
     "name": "stdout",
     "output_type": "stream",
     "text": [
      "BKneelvarP\n"
     ]
    }
   ],
   "source": [
    "s=\"PravleenKB\"\n",
    "print(s[::-1])"
   ]
  },
  {
   "cell_type": "markdown",
   "metadata": {},
   "source": [
    "# define one function which accept string in form of num1+or-num2\n",
    "\n",
    "# Like :    2+3,  5-6, 10+12, 10-2, 234-45"
   ]
  },
  {
   "cell_type": "code",
   "execution_count": 11,
   "metadata": {},
   "outputs": [
    {
     "data": {
      "text/plain": [
       "8"
      ]
     },
     "execution_count": 11,
     "metadata": {},
     "output_type": "execute_result"
    }
   ],
   "source": [
    "def cal(num1,num2):\n",
    "    return int(num1)+int(num2)\n",
    "cal(\"10\",\"-2\")"
   ]
  },
  {
   "cell_type": "markdown",
   "metadata": {},
   "source": [
    "# Create List and add 1 thousand different random string in it, each string must be of 2 character only."
   ]
  },
  {
   "cell_type": "code",
   "execution_count": 12,
   "metadata": {},
   "outputs": [],
   "source": [
    "l=[\"aa\",\"bb\"]\n"
   ]
  },
  {
   "cell_type": "code",
   "execution_count": null,
   "metadata": {},
   "outputs": [],
   "source": []
  },
  {
   "cell_type": "code",
   "execution_count": 15,
   "metadata": {},
   "outputs": [
    {
     "name": "stdout",
     "output_type": "stream",
     "text": [
      "[1 2 3]\n"
     ]
    }
   ],
   "source": []
  },
  {
   "cell_type": "code",
   "execution_count": 16,
   "metadata": {},
   "outputs": [
    {
     "name": "stdout",
     "output_type": "stream",
     "text": [
      "[[2 3 4]\n",
      " [3 4 5]]\n"
     ]
    }
   ],
   "source": []
  },
  {
   "cell_type": "code",
   "execution_count": 17,
   "metadata": {},
   "outputs": [
    {
     "data": {
      "text/plain": [
       "array([[0., 0., 0., 0.],\n",
       "       [0., 0., 0., 0.],\n",
       "       [0., 0., 0., 0.]])"
      ]
     },
     "execution_count": 17,
     "metadata": {},
     "output_type": "execute_result"
    }
   ],
   "source": []
  },
  {
   "cell_type": "code",
   "execution_count": 18,
   "metadata": {},
   "outputs": [
    {
     "data": {
      "text/plain": [
       "array([[1., 1., 1.],\n",
       "       [1., 1., 1.]])"
      ]
     },
     "execution_count": 18,
     "metadata": {},
     "output_type": "execute_result"
    }
   ],
   "source": []
  },
  {
   "cell_type": "code",
   "execution_count": 19,
   "metadata": {},
   "outputs": [
    {
     "data": {
      "text/plain": [
       "array([[1., 0., 0., 0.],\n",
       "       [0., 1., 0., 0.],\n",
       "       [0., 0., 1., 0.],\n",
       "       [0., 0., 0., 1.]])"
      ]
     },
     "execution_count": 19,
     "metadata": {},
     "output_type": "execute_result"
    }
   ],
   "source": [
    "    "
   ]
  },
  {
   "cell_type": "code",
   "execution_count": 20,
   "metadata": {},
   "outputs": [
    {
     "data": {
      "text/plain": [
       "array([[ 0.52527083, -0.96824152,  0.53184478,  0.41155647,  0.59028253],\n",
       "       [-1.65339795,  0.42996123, -0.30180497, -0.17801541, -1.00106788],\n",
       "       [ 2.49738634, -0.09850777, -0.63366175,  0.30820345, -0.39628269]])"
      ]
     },
     "execution_count": 20,
     "metadata": {},
     "output_type": "execute_result"
    }
   ],
   "source": []
  },
  {
   "cell_type": "code",
   "execution_count": 21,
   "metadata": {},
   "outputs": [
    {
     "data": {
      "text/plain": [
       "array([13,  8, 14,  5, 10,  9])"
      ]
     },
     "execution_count": 21,
     "metadata": {},
     "output_type": "execute_result"
    }
   ],
   "source": []
  },
  {
   "cell_type": "code",
   "execution_count": 22,
   "metadata": {},
   "outputs": [
    {
     "data": {
      "text/plain": [
       "array([4, 7])"
      ]
     },
     "execution_count": 22,
     "metadata": {},
     "output_type": "execute_result"
    }
   ],
   "source": []
  },
  {
   "cell_type": "code",
   "execution_count": 23,
   "metadata": {},
   "outputs": [
    {
     "data": {
      "text/plain": [
       "array([ 2.  ,  4.75,  7.5 , 10.25, 13.  ])"
      ]
     },
     "execution_count": 23,
     "metadata": {},
     "output_type": "execute_result"
    }
   ],
   "source": []
  },
  {
   "cell_type": "code",
   "execution_count": 24,
   "metadata": {},
   "outputs": [
    {
     "data": {
      "text/plain": [
       "(2, 3)"
      ]
     },
     "execution_count": 24,
     "metadata": {},
     "output_type": "execute_result"
    }
   ],
   "source": []
  },
  {
   "cell_type": "code",
   "execution_count": 25,
   "metadata": {},
   "outputs": [
    {
     "data": {
      "text/plain": [
       "2"
      ]
     },
     "execution_count": 25,
     "metadata": {},
     "output_type": "execute_result"
    }
   ],
   "source": []
  },
  {
   "cell_type": "code",
   "execution_count": 26,
   "metadata": {},
   "outputs": [
    {
     "data": {
      "text/plain": [
       "array([[2, 3],\n",
       "       [4, 3],\n",
       "       [4, 5]])"
      ]
     },
     "execution_count": 26,
     "metadata": {},
     "output_type": "execute_result"
    }
   ],
   "source": []
  },
  {
   "cell_type": "markdown",
   "metadata": {},
   "source": []
  },
  {
   "cell_type": "code",
   "execution_count": null,
   "metadata": {},
   "outputs": [],
   "source": []
  },
  {
   "cell_type": "markdown",
   "metadata": {},
   "source": []
  },
  {
   "cell_type": "code",
   "execution_count": 28,
   "metadata": {},
   "outputs": [
    {
     "name": "stdout",
     "output_type": "stream",
     "text": [
      "96\n"
     ]
    }
   ],
   "source": []
  },
  {
   "cell_type": "code",
   "execution_count": 29,
   "metadata": {},
   "outputs": [
    {
     "name": "stdout",
     "output_type": "stream",
     "text": [
      "[77 55 92 43 34 53 23 22 54 44 84 86 23 74 39 26 80 16 16 39 47 47 20 20\n",
      " 75 80 30 56 80 42 40 28 34 75 18 94 26 89 75 76 82 55 54 92 98 97 31 64\n",
      " 50 32 23 37 32 33 72 99 70 67 83 98]\n",
      "[16 16 18 20 20 22 23 23 23 26 26 28 30 31 32 32 33 34 34 37 39 39 40 42\n",
      " 43 44 47 47 50 53 54 54 55 55 56 64 67 70 72 74 75 75 75 76 77 80 80 80\n",
      " 82 83 84 86 89 92 92 94 97 98 98 99]\n",
      "98\n"
     ]
    }
   ],
   "source": []
  },
  {
   "cell_type": "markdown",
   "metadata": {},
   "source": [
    "# PANDAS"
   ]
  },
  {
   "cell_type": "code",
   "execution_count": 30,
   "metadata": {},
   "outputs": [],
   "source": [
    "import pandas as pd"
   ]
  },
  {
   "cell_type": "code",
   "execution_count": 31,
   "metadata": {},
   "outputs": [
    {
     "data": {
      "text/plain": [
       "a    2\n",
       "b    3\n",
       "c    4\n",
       "dtype: int64"
      ]
     },
     "execution_count": 31,
     "metadata": {},
     "output_type": "execute_result"
    }
   ],
   "source": [
    "s1=pd.Series([2,3,4],index=['a','b','c'])\n",
    "s1"
   ]
  },
  {
   "cell_type": "code",
   "execution_count": 32,
   "metadata": {},
   "outputs": [
    {
     "data": {
      "text/plain": [
       "2"
      ]
     },
     "execution_count": 32,
     "metadata": {},
     "output_type": "execute_result"
    }
   ],
   "source": [
    "s1['a']"
   ]
  },
  {
   "cell_type": "markdown",
   "metadata": {},
   "source": [
    "# DATAFRAMES"
   ]
  },
  {
   "cell_type": "code",
   "execution_count": 33,
   "metadata": {},
   "outputs": [
    {
     "data": {
      "text/html": [
       "<div>\n",
       "<style scoped>\n",
       "    .dataframe tbody tr th:only-of-type {\n",
       "        vertical-align: middle;\n",
       "    }\n",
       "\n",
       "    .dataframe tbody tr th {\n",
       "        vertical-align: top;\n",
       "    }\n",
       "\n",
       "    .dataframe thead th {\n",
       "        text-align: right;\n",
       "    }\n",
       "</style>\n",
       "<table border=\"1\" class=\"dataframe\">\n",
       "  <thead>\n",
       "    <tr style=\"text-align: right;\">\n",
       "      <th></th>\n",
       "      <th>C1</th>\n",
       "      <th>C2</th>\n",
       "      <th>C3</th>\n",
       "    </tr>\n",
       "  </thead>\n",
       "  <tbody>\n",
       "    <tr>\n",
       "      <td>R1</td>\n",
       "      <td>1</td>\n",
       "      <td>2</td>\n",
       "      <td>3</td>\n",
       "    </tr>\n",
       "    <tr>\n",
       "      <td>R2</td>\n",
       "      <td>3</td>\n",
       "      <td>4</td>\n",
       "      <td>5</td>\n",
       "    </tr>\n",
       "    <tr>\n",
       "      <td>R3</td>\n",
       "      <td>6</td>\n",
       "      <td>7</td>\n",
       "      <td>8</td>\n",
       "    </tr>\n",
       "  </tbody>\n",
       "</table>\n",
       "</div>"
      ],
      "text/plain": [
       "    C1  C2  C3\n",
       "R1   1   2   3\n",
       "R2   3   4   5\n",
       "R3   6   7   8"
      ]
     },
     "execution_count": 33,
     "metadata": {},
     "output_type": "execute_result"
    }
   ],
   "source": [
    "df=pd.DataFrame(data=[[1,2,3],[3,4,5],[6,7,8]],columns=['C1','C2','C3'],index=['R1','R2','R3'])\n",
    "df"
   ]
  },
  {
   "cell_type": "code",
   "execution_count": 34,
   "metadata": {},
   "outputs": [
    {
     "data": {
      "text/html": [
       "<div>\n",
       "<style scoped>\n",
       "    .dataframe tbody tr th:only-of-type {\n",
       "        vertical-align: middle;\n",
       "    }\n",
       "\n",
       "    .dataframe tbody tr th {\n",
       "        vertical-align: top;\n",
       "    }\n",
       "\n",
       "    .dataframe thead th {\n",
       "        text-align: right;\n",
       "    }\n",
       "</style>\n",
       "<table border=\"1\" class=\"dataframe\">\n",
       "  <thead>\n",
       "    <tr style=\"text-align: right;\">\n",
       "      <th></th>\n",
       "      <th>C1</th>\n",
       "      <th>C2</th>\n",
       "      <th>C3</th>\n",
       "      <th>newC</th>\n",
       "    </tr>\n",
       "  </thead>\n",
       "  <tbody>\n",
       "    <tr>\n",
       "      <td>R1</td>\n",
       "      <td>1</td>\n",
       "      <td>2</td>\n",
       "      <td>3</td>\n",
       "      <td>6</td>\n",
       "    </tr>\n",
       "    <tr>\n",
       "      <td>R2</td>\n",
       "      <td>3</td>\n",
       "      <td>4</td>\n",
       "      <td>5</td>\n",
       "      <td>8</td>\n",
       "    </tr>\n",
       "    <tr>\n",
       "      <td>R3</td>\n",
       "      <td>6</td>\n",
       "      <td>7</td>\n",
       "      <td>8</td>\n",
       "      <td>11</td>\n",
       "    </tr>\n",
       "  </tbody>\n",
       "</table>\n",
       "</div>"
      ],
      "text/plain": [
       "    C1  C2  C3  newC\n",
       "R1   1   2   3     6\n",
       "R2   3   4   5     8\n",
       "R3   6   7   8    11"
      ]
     },
     "execution_count": 34,
     "metadata": {},
     "output_type": "execute_result"
    }
   ],
   "source": [
    "df['newC']=df['C1']+5\n",
    "df"
   ]
  },
  {
   "cell_type": "code",
   "execution_count": 35,
   "metadata": {},
   "outputs": [
    {
     "data": {
      "text/html": [
       "<div>\n",
       "<style scoped>\n",
       "    .dataframe tbody tr th:only-of-type {\n",
       "        vertical-align: middle;\n",
       "    }\n",
       "\n",
       "    .dataframe tbody tr th {\n",
       "        vertical-align: top;\n",
       "    }\n",
       "\n",
       "    .dataframe thead th {\n",
       "        text-align: right;\n",
       "    }\n",
       "</style>\n",
       "<table border=\"1\" class=\"dataframe\">\n",
       "  <thead>\n",
       "    <tr style=\"text-align: right;\">\n",
       "      <th></th>\n",
       "      <th>C1</th>\n",
       "      <th>C2</th>\n",
       "      <th>C3</th>\n",
       "      <th>newC</th>\n",
       "    </tr>\n",
       "  </thead>\n",
       "  <tbody>\n",
       "    <tr>\n",
       "      <td>R1</td>\n",
       "      <td>1</td>\n",
       "      <td>2</td>\n",
       "      <td>3</td>\n",
       "      <td>6</td>\n",
       "    </tr>\n",
       "    <tr>\n",
       "      <td>R2</td>\n",
       "      <td>3</td>\n",
       "      <td>4</td>\n",
       "      <td>5</td>\n",
       "      <td>8</td>\n",
       "    </tr>\n",
       "  </tbody>\n",
       "</table>\n",
       "</div>"
      ],
      "text/plain": [
       "    C1  C2  C3  newC\n",
       "R1   1   2   3     6\n",
       "R2   3   4   5     8"
      ]
     },
     "execution_count": 35,
     "metadata": {},
     "output_type": "execute_result"
    }
   ],
   "source": [
    "df.drop('R3' ,axis=0)\n"
   ]
  },
  {
   "cell_type": "code",
   "execution_count": 36,
   "metadata": {},
   "outputs": [],
   "source": [
    "df.set_index('C3',inplace=True)"
   ]
  },
  {
   "cell_type": "code",
   "execution_count": 37,
   "metadata": {},
   "outputs": [
    {
     "data": {
      "text/html": [
       "<div>\n",
       "<style scoped>\n",
       "    .dataframe tbody tr th:only-of-type {\n",
       "        vertical-align: middle;\n",
       "    }\n",
       "\n",
       "    .dataframe tbody tr th {\n",
       "        vertical-align: top;\n",
       "    }\n",
       "\n",
       "    .dataframe thead th {\n",
       "        text-align: right;\n",
       "    }\n",
       "</style>\n",
       "<table border=\"1\" class=\"dataframe\">\n",
       "  <thead>\n",
       "    <tr style=\"text-align: right;\">\n",
       "      <th></th>\n",
       "      <th>C1</th>\n",
       "      <th>C2</th>\n",
       "      <th>newC</th>\n",
       "    </tr>\n",
       "    <tr>\n",
       "      <th>C3</th>\n",
       "      <th></th>\n",
       "      <th></th>\n",
       "      <th></th>\n",
       "    </tr>\n",
       "  </thead>\n",
       "  <tbody>\n",
       "    <tr>\n",
       "      <td>3</td>\n",
       "      <td>1</td>\n",
       "      <td>2</td>\n",
       "      <td>6</td>\n",
       "    </tr>\n",
       "    <tr>\n",
       "      <td>5</td>\n",
       "      <td>3</td>\n",
       "      <td>4</td>\n",
       "      <td>8</td>\n",
       "    </tr>\n",
       "    <tr>\n",
       "      <td>8</td>\n",
       "      <td>6</td>\n",
       "      <td>7</td>\n",
       "      <td>11</td>\n",
       "    </tr>\n",
       "  </tbody>\n",
       "</table>\n",
       "</div>"
      ],
      "text/plain": [
       "    C1  C2  newC\n",
       "C3              \n",
       "3    1   2     6\n",
       "5    3   4     8\n",
       "8    6   7    11"
      ]
     },
     "execution_count": 37,
     "metadata": {},
     "output_type": "execute_result"
    }
   ],
   "source": [
    "df"
   ]
  },
  {
   "cell_type": "code",
   "execution_count": 38,
   "metadata": {},
   "outputs": [
    {
     "data": {
      "text/plain": [
       "C1      1\n",
       "C2      2\n",
       "newC    6\n",
       "Name: 3, dtype: int64"
      ]
     },
     "execution_count": 38,
     "metadata": {},
     "output_type": "execute_result"
    }
   ],
   "source": [
    "df.loc[3,:]"
   ]
  },
  {
   "cell_type": "code",
   "execution_count": 39,
   "metadata": {},
   "outputs": [
    {
     "name": "stdout",
     "output_type": "stream",
     "text": [
      "   SUBJECT SECTION NAME Marks\n",
      "0  Science       A   S1  98.2\n",
      "1    Maths       A   S2    78\n",
      "2  English       A   S4    88\n",
      "3  Science       B   S4    91\n",
      "4    Maths       B   S5  80.9\n",
      "5  English       B   S6  88.9\n"
     ]
    }
   ],
   "source": [
    "df1=pd.DataFrame(data=np.array([['Science','A','S1',98.2],['Maths','A','S2',78],['English','A','S4',88],['Science','B','S4',91],['Maths','B','S5',80.9],['English','B','S6',88.9]]),columns=['SUBJECT','SECTION','NAME','Marks'])\n",
    "print(df1)                             \n"
   ]
  },
  {
   "cell_type": "code",
   "execution_count": 40,
   "metadata": {},
   "outputs": [
    {
     "data": {
      "text/html": [
       "<div>\n",
       "<style scoped>\n",
       "    .dataframe tbody tr th:only-of-type {\n",
       "        vertical-align: middle;\n",
       "    }\n",
       "\n",
       "    .dataframe tbody tr th {\n",
       "        vertical-align: top;\n",
       "    }\n",
       "\n",
       "    .dataframe thead th {\n",
       "        text-align: right;\n",
       "    }\n",
       "</style>\n",
       "<table border=\"1\" class=\"dataframe\">\n",
       "  <thead>\n",
       "    <tr style=\"text-align: right;\">\n",
       "      <th></th>\n",
       "      <th></th>\n",
       "      <th>NAME</th>\n",
       "      <th>Marks</th>\n",
       "    </tr>\n",
       "    <tr>\n",
       "      <th>SECTION</th>\n",
       "      <th>SUBJECT</th>\n",
       "      <th></th>\n",
       "      <th></th>\n",
       "    </tr>\n",
       "  </thead>\n",
       "  <tbody>\n",
       "    <tr>\n",
       "      <td rowspan=\"3\" valign=\"top\">A</td>\n",
       "      <td>Science</td>\n",
       "      <td>S1</td>\n",
       "      <td>98.2</td>\n",
       "    </tr>\n",
       "    <tr>\n",
       "      <td>Maths</td>\n",
       "      <td>S2</td>\n",
       "      <td>78</td>\n",
       "    </tr>\n",
       "    <tr>\n",
       "      <td>English</td>\n",
       "      <td>S4</td>\n",
       "      <td>88</td>\n",
       "    </tr>\n",
       "    <tr>\n",
       "      <td rowspan=\"3\" valign=\"top\">B</td>\n",
       "      <td>Science</td>\n",
       "      <td>S4</td>\n",
       "      <td>91</td>\n",
       "    </tr>\n",
       "    <tr>\n",
       "      <td>Maths</td>\n",
       "      <td>S5</td>\n",
       "      <td>80.9</td>\n",
       "    </tr>\n",
       "    <tr>\n",
       "      <td>English</td>\n",
       "      <td>S6</td>\n",
       "      <td>88.9</td>\n",
       "    </tr>\n",
       "  </tbody>\n",
       "</table>\n",
       "</div>"
      ],
      "text/plain": [
       "                NAME Marks\n",
       "SECTION SUBJECT           \n",
       "A       Science   S1  98.2\n",
       "        Maths     S2    78\n",
       "        English   S4    88\n",
       "B       Science   S4    91\n",
       "        Maths     S5  80.9\n",
       "        English   S6  88.9"
      ]
     },
     "execution_count": 40,
     "metadata": {},
     "output_type": "execute_result"
    }
   ],
   "source": [
    "df1=df1.set_index(['SECTION','SUBJECT'])\n",
    "df1"
   ]
  },
  {
   "cell_type": "code",
   "execution_count": 41,
   "metadata": {},
   "outputs": [
    {
     "data": {
      "text/plain": [
       "NAME     S2\n",
       "Marks    78\n",
       "Name: Maths, dtype: object"
      ]
     },
     "execution_count": 41,
     "metadata": {},
     "output_type": "execute_result"
    }
   ],
   "source": [
    "df1.loc['A'].loc['Maths']"
   ]
  },
  {
   "cell_type": "code",
   "execution_count": 42,
   "metadata": {},
   "outputs": [
    {
     "data": {
      "text/html": [
       "<div>\n",
       "<style scoped>\n",
       "    .dataframe tbody tr th:only-of-type {\n",
       "        vertical-align: middle;\n",
       "    }\n",
       "\n",
       "    .dataframe tbody tr th {\n",
       "        vertical-align: top;\n",
       "    }\n",
       "\n",
       "    .dataframe thead th {\n",
       "        text-align: right;\n",
       "    }\n",
       "</style>\n",
       "<table border=\"1\" class=\"dataframe\">\n",
       "  <thead>\n",
       "    <tr style=\"text-align: right;\">\n",
       "      <th></th>\n",
       "      <th>P</th>\n",
       "      <th>R</th>\n",
       "      <th>A</th>\n",
       "      <th>V</th>\n",
       "    </tr>\n",
       "  </thead>\n",
       "  <tbody>\n",
       "    <tr>\n",
       "      <td>A</td>\n",
       "      <td>NaN</td>\n",
       "      <td>2.0</td>\n",
       "      <td>3.0</td>\n",
       "      <td>NaN</td>\n",
       "    </tr>\n",
       "    <tr>\n",
       "      <td>B</td>\n",
       "      <td>3.0</td>\n",
       "      <td>NaN</td>\n",
       "      <td>0.0</td>\n",
       "      <td>NaN</td>\n",
       "    </tr>\n",
       "    <tr>\n",
       "      <td>C</td>\n",
       "      <td>2.0</td>\n",
       "      <td>NaN</td>\n",
       "      <td>NaN</td>\n",
       "      <td>NaN</td>\n",
       "    </tr>\n",
       "    <tr>\n",
       "      <td>D</td>\n",
       "      <td>NaN</td>\n",
       "      <td>NaN</td>\n",
       "      <td>NaN</td>\n",
       "      <td>NaN</td>\n",
       "    </tr>\n",
       "  </tbody>\n",
       "</table>\n",
       "</div>"
      ],
      "text/plain": [
       "     P    R    A   V\n",
       "A  NaN  2.0  3.0 NaN\n",
       "B  3.0  NaN  0.0 NaN\n",
       "C  2.0  NaN  NaN NaN\n",
       "D  NaN  NaN  NaN NaN"
      ]
     },
     "execution_count": 42,
     "metadata": {},
     "output_type": "execute_result"
    }
   ],
   "source": [
    "df2=pd.DataFrame([[np.nan,2,3,np.nan],[3,np.nan,0,np.nan],[2,np.nan,np.nan,np.nan],[np.nan,np.nan,np.nan,np.nan]],columns=list('PRAV'),index=list('ABCD'))\n",
    "df2"
   ]
  },
  {
   "cell_type": "code",
   "execution_count": 43,
   "metadata": {},
   "outputs": [
    {
     "data": {
      "text/html": [
       "<div>\n",
       "<style scoped>\n",
       "    .dataframe tbody tr th:only-of-type {\n",
       "        vertical-align: middle;\n",
       "    }\n",
       "\n",
       "    .dataframe tbody tr th {\n",
       "        vertical-align: top;\n",
       "    }\n",
       "\n",
       "    .dataframe thead th {\n",
       "        text-align: right;\n",
       "    }\n",
       "</style>\n",
       "<table border=\"1\" class=\"dataframe\">\n",
       "  <thead>\n",
       "    <tr style=\"text-align: right;\">\n",
       "      <th></th>\n",
       "      <th>P</th>\n",
       "      <th>R</th>\n",
       "      <th>A</th>\n",
       "    </tr>\n",
       "  </thead>\n",
       "  <tbody>\n",
       "    <tr>\n",
       "      <td>A</td>\n",
       "      <td>NaN</td>\n",
       "      <td>2.0</td>\n",
       "      <td>3.0</td>\n",
       "    </tr>\n",
       "    <tr>\n",
       "      <td>B</td>\n",
       "      <td>3.0</td>\n",
       "      <td>NaN</td>\n",
       "      <td>0.0</td>\n",
       "    </tr>\n",
       "    <tr>\n",
       "      <td>C</td>\n",
       "      <td>2.0</td>\n",
       "      <td>NaN</td>\n",
       "      <td>NaN</td>\n",
       "    </tr>\n",
       "    <tr>\n",
       "      <td>D</td>\n",
       "      <td>NaN</td>\n",
       "      <td>NaN</td>\n",
       "      <td>NaN</td>\n",
       "    </tr>\n",
       "  </tbody>\n",
       "</table>\n",
       "</div>"
      ],
      "text/plain": [
       "     P    R    A\n",
       "A  NaN  2.0  3.0\n",
       "B  3.0  NaN  0.0\n",
       "C  2.0  NaN  NaN\n",
       "D  NaN  NaN  NaN"
      ]
     },
     "execution_count": 43,
     "metadata": {},
     "output_type": "execute_result"
    }
   ],
   "source": [
    "df2.dropna(axis=1,how='all')"
   ]
  },
  {
   "cell_type": "code",
   "execution_count": 44,
   "metadata": {},
   "outputs": [
    {
     "data": {
      "text/html": [
       "<div>\n",
       "<style scoped>\n",
       "    .dataframe tbody tr th:only-of-type {\n",
       "        vertical-align: middle;\n",
       "    }\n",
       "\n",
       "    .dataframe tbody tr th {\n",
       "        vertical-align: top;\n",
       "    }\n",
       "\n",
       "    .dataframe thead th {\n",
       "        text-align: right;\n",
       "    }\n",
       "</style>\n",
       "<table border=\"1\" class=\"dataframe\">\n",
       "  <thead>\n",
       "    <tr style=\"text-align: right;\">\n",
       "      <th></th>\n",
       "      <th>P</th>\n",
       "      <th>R</th>\n",
       "      <th>A</th>\n",
       "      <th>V</th>\n",
       "    </tr>\n",
       "  </thead>\n",
       "  <tbody>\n",
       "    <tr>\n",
       "      <td>A</td>\n",
       "      <td>NaN</td>\n",
       "      <td>2.0</td>\n",
       "      <td>3.0</td>\n",
       "      <td>NaN</td>\n",
       "    </tr>\n",
       "    <tr>\n",
       "      <td>B</td>\n",
       "      <td>3.0</td>\n",
       "      <td>NaN</td>\n",
       "      <td>0.0</td>\n",
       "      <td>NaN</td>\n",
       "    </tr>\n",
       "    <tr>\n",
       "      <td>C</td>\n",
       "      <td>2.0</td>\n",
       "      <td>NaN</td>\n",
       "      <td>NaN</td>\n",
       "      <td>NaN</td>\n",
       "    </tr>\n",
       "  </tbody>\n",
       "</table>\n",
       "</div>"
      ],
      "text/plain": [
       "     P    R    A   V\n",
       "A  NaN  2.0  3.0 NaN\n",
       "B  3.0  NaN  0.0 NaN\n",
       "C  2.0  NaN  NaN NaN"
      ]
     },
     "execution_count": 44,
     "metadata": {},
     "output_type": "execute_result"
    }
   ],
   "source": [
    "df2.dropna(axis=0,how='all')"
   ]
  },
  {
   "cell_type": "code",
   "execution_count": 45,
   "metadata": {},
   "outputs": [
    {
     "data": {
      "text/plain": [
       "A    2.0\n",
       "B    2.0\n",
       "C    2.0\n",
       "D    2.0\n",
       "Name: R, dtype: float64"
      ]
     },
     "execution_count": 45,
     "metadata": {},
     "output_type": "execute_result"
    }
   ],
   "source": [
    "df2['R'].fillna(df2['R'].mean())"
   ]
  },
  {
   "cell_type": "code",
   "execution_count": 46,
   "metadata": {},
   "outputs": [
    {
     "data": {
      "text/plain": [
       "2.0"
      ]
     },
     "execution_count": 46,
     "metadata": {},
     "output_type": "execute_result"
    }
   ],
   "source": [
    "df2['R'].mean()\n"
   ]
  },
  {
   "cell_type": "code",
   "execution_count": 47,
   "metadata": {},
   "outputs": [
    {
     "data": {
      "text/html": [
       "<div>\n",
       "<style scoped>\n",
       "    .dataframe tbody tr th:only-of-type {\n",
       "        vertical-align: middle;\n",
       "    }\n",
       "\n",
       "    .dataframe tbody tr th {\n",
       "        vertical-align: top;\n",
       "    }\n",
       "\n",
       "    .dataframe thead th {\n",
       "        text-align: right;\n",
       "    }\n",
       "</style>\n",
       "<table border=\"1\" class=\"dataframe\">\n",
       "  <thead>\n",
       "    <tr style=\"text-align: right;\">\n",
       "      <th></th>\n",
       "      <th>P</th>\n",
       "      <th>R</th>\n",
       "      <th>A</th>\n",
       "      <th>V</th>\n",
       "    </tr>\n",
       "  </thead>\n",
       "  <tbody>\n",
       "    <tr>\n",
       "      <td>A</td>\n",
       "      <td>NaN</td>\n",
       "      <td>2.0</td>\n",
       "      <td>There was 3 here</td>\n",
       "      <td>NaN</td>\n",
       "    </tr>\n",
       "    <tr>\n",
       "      <td>B</td>\n",
       "      <td>There was 3 here</td>\n",
       "      <td>NaN</td>\n",
       "      <td>0</td>\n",
       "      <td>NaN</td>\n",
       "    </tr>\n",
       "    <tr>\n",
       "      <td>C</td>\n",
       "      <td>2</td>\n",
       "      <td>NaN</td>\n",
       "      <td>NaN</td>\n",
       "      <td>NaN</td>\n",
       "    </tr>\n",
       "    <tr>\n",
       "      <td>D</td>\n",
       "      <td>NaN</td>\n",
       "      <td>NaN</td>\n",
       "      <td>NaN</td>\n",
       "      <td>NaN</td>\n",
       "    </tr>\n",
       "  </tbody>\n",
       "</table>\n",
       "</div>"
      ],
      "text/plain": [
       "                  P    R                 A   V\n",
       "A               NaN  2.0  There was 3 here NaN\n",
       "B  There was 3 here  NaN                 0 NaN\n",
       "C                 2  NaN               NaN NaN\n",
       "D               NaN  NaN               NaN NaN"
      ]
     },
     "execution_count": 47,
     "metadata": {},
     "output_type": "execute_result"
    }
   ],
   "source": [
    "df2.replace(3.0,\"There was 3 here\")"
   ]
  },
  {
   "cell_type": "code",
   "execution_count": 48,
   "metadata": {},
   "outputs": [
    {
     "data": {
      "text/html": [
       "<div>\n",
       "<style scoped>\n",
       "    .dataframe tbody tr th:only-of-type {\n",
       "        vertical-align: middle;\n",
       "    }\n",
       "\n",
       "    .dataframe tbody tr th {\n",
       "        vertical-align: top;\n",
       "    }\n",
       "\n",
       "    .dataframe thead th {\n",
       "        text-align: right;\n",
       "    }\n",
       "</style>\n",
       "<table border=\"1\" class=\"dataframe\">\n",
       "  <thead>\n",
       "    <tr style=\"text-align: right;\">\n",
       "      <th></th>\n",
       "      <th>TEAM</th>\n",
       "      <th>SEX</th>\n",
       "      <th>NAME</th>\n",
       "      <th>AGE</th>\n",
       "      <th>SCORE</th>\n",
       "    </tr>\n",
       "  </thead>\n",
       "  <tbody>\n",
       "    <tr>\n",
       "      <td>0</td>\n",
       "      <td>MI</td>\n",
       "      <td>FEMALE</td>\n",
       "      <td>P1</td>\n",
       "      <td>32</td>\n",
       "      <td>45</td>\n",
       "    </tr>\n",
       "    <tr>\n",
       "      <td>1</td>\n",
       "      <td>RCB</td>\n",
       "      <td>MALE</td>\n",
       "      <td>P2</td>\n",
       "      <td>22</td>\n",
       "      <td>67</td>\n",
       "    </tr>\n",
       "    <tr>\n",
       "      <td>2</td>\n",
       "      <td>RR</td>\n",
       "      <td>MALE</td>\n",
       "      <td>P3</td>\n",
       "      <td>23</td>\n",
       "      <td>55</td>\n",
       "    </tr>\n",
       "    <tr>\n",
       "      <td>3</td>\n",
       "      <td>RCB</td>\n",
       "      <td>MALE</td>\n",
       "      <td>P4</td>\n",
       "      <td>44</td>\n",
       "      <td>8</td>\n",
       "    </tr>\n",
       "    <tr>\n",
       "      <td>4</td>\n",
       "      <td>MI</td>\n",
       "      <td>FEMALE</td>\n",
       "      <td>P5</td>\n",
       "      <td>32</td>\n",
       "      <td>100</td>\n",
       "    </tr>\n",
       "    <tr>\n",
       "      <td>5</td>\n",
       "      <td>RR</td>\n",
       "      <td>MALE</td>\n",
       "      <td>P6</td>\n",
       "      <td>33</td>\n",
       "      <td>45</td>\n",
       "    </tr>\n",
       "  </tbody>\n",
       "</table>\n",
       "</div>"
      ],
      "text/plain": [
       "  TEAM     SEX NAME  AGE  SCORE\n",
       "0   MI  FEMALE   P1   32     45\n",
       "1  RCB    MALE   P2   22     67\n",
       "2   RR    MALE   P3   23     55\n",
       "3  RCB    MALE   P4   44      8\n",
       "4   MI  FEMALE   P5   32    100\n",
       "5   RR    MALE   P6   33     45"
      ]
     },
     "execution_count": 48,
     "metadata": {},
     "output_type": "execute_result"
    }
   ],
   "source": [
    "df3=pd.DataFrame([['MI','FEMALE','P1',32,45],['RCB','MALE','P2',22,67],['RR','MALE','P3',23,55],['RCB','MALE','P4',44,8],['MI','FEMALE'\n",
    "                                                                                                                  ,'P5',32,100],['RR','MALE','P6',33,45]],columns=['TEAM','SEX','NAME','AGE','SCORE'])\n",
    "df3"
   ]
  },
  {
   "cell_type": "code",
   "execution_count": 49,
   "metadata": {},
   "outputs": [
    {
     "data": {
      "text/plain": [
       "MI     2\n",
       "RCB    2\n",
       "RR     2\n",
       "Name: TEAM, dtype: int64"
      ]
     },
     "execution_count": 49,
     "metadata": {},
     "output_type": "execute_result"
    }
   ],
   "source": [
    "df3['TEAM'].value_counts()"
   ]
  },
  {
   "cell_type": "code",
   "execution_count": 50,
   "metadata": {},
   "outputs": [],
   "source": [
    "byteam= df3.groupby('TEAM')"
   ]
  },
  {
   "cell_type": "code",
   "execution_count": 51,
   "metadata": {},
   "outputs": [
    {
     "data": {
      "text/html": [
       "<div>\n",
       "<style scoped>\n",
       "    .dataframe tbody tr th:only-of-type {\n",
       "        vertical-align: middle;\n",
       "    }\n",
       "\n",
       "    .dataframe tbody tr th {\n",
       "        vertical-align: top;\n",
       "    }\n",
       "\n",
       "    .dataframe thead th {\n",
       "        text-align: right;\n",
       "    }\n",
       "</style>\n",
       "<table border=\"1\" class=\"dataframe\">\n",
       "  <thead>\n",
       "    <tr style=\"text-align: right;\">\n",
       "      <th></th>\n",
       "      <th>AGE</th>\n",
       "      <th>SCORE</th>\n",
       "    </tr>\n",
       "    <tr>\n",
       "      <th>TEAM</th>\n",
       "      <th></th>\n",
       "      <th></th>\n",
       "    </tr>\n",
       "  </thead>\n",
       "  <tbody>\n",
       "    <tr>\n",
       "      <td>MI</td>\n",
       "      <td>64</td>\n",
       "      <td>145</td>\n",
       "    </tr>\n",
       "    <tr>\n",
       "      <td>RCB</td>\n",
       "      <td>66</td>\n",
       "      <td>75</td>\n",
       "    </tr>\n",
       "    <tr>\n",
       "      <td>RR</td>\n",
       "      <td>56</td>\n",
       "      <td>100</td>\n",
       "    </tr>\n",
       "  </tbody>\n",
       "</table>\n",
       "</div>"
      ],
      "text/plain": [
       "      AGE  SCORE\n",
       "TEAM            \n",
       "MI     64    145\n",
       "RCB    66     75\n",
       "RR     56    100"
      ]
     },
     "execution_count": 51,
     "metadata": {},
     "output_type": "execute_result"
    }
   ],
   "source": [
    "byteam.sum()"
   ]
  },
  {
   "cell_type": "code",
   "execution_count": 52,
   "metadata": {},
   "outputs": [
    {
     "data": {
      "text/html": [
       "<div>\n",
       "<style scoped>\n",
       "    .dataframe tbody tr th:only-of-type {\n",
       "        vertical-align: middle;\n",
       "    }\n",
       "\n",
       "    .dataframe tbody tr th {\n",
       "        vertical-align: top;\n",
       "    }\n",
       "\n",
       "    .dataframe thead th {\n",
       "        text-align: right;\n",
       "    }\n",
       "</style>\n",
       "<table border=\"1\" class=\"dataframe\">\n",
       "  <thead>\n",
       "    <tr style=\"text-align: right;\">\n",
       "      <th></th>\n",
       "      <th>AGE</th>\n",
       "      <th>SCORE</th>\n",
       "    </tr>\n",
       "    <tr>\n",
       "      <th>TEAM</th>\n",
       "      <th></th>\n",
       "      <th></th>\n",
       "    </tr>\n",
       "  </thead>\n",
       "  <tbody>\n",
       "    <tr>\n",
       "      <td>MI</td>\n",
       "      <td>32.0</td>\n",
       "      <td>72.5</td>\n",
       "    </tr>\n",
       "    <tr>\n",
       "      <td>RCB</td>\n",
       "      <td>33.0</td>\n",
       "      <td>37.5</td>\n",
       "    </tr>\n",
       "    <tr>\n",
       "      <td>RR</td>\n",
       "      <td>28.0</td>\n",
       "      <td>50.0</td>\n",
       "    </tr>\n",
       "  </tbody>\n",
       "</table>\n",
       "</div>"
      ],
      "text/plain": [
       "       AGE  SCORE\n",
       "TEAM             \n",
       "MI    32.0   72.5\n",
       "RCB   33.0   37.5\n",
       "RR    28.0   50.0"
      ]
     },
     "execution_count": 52,
     "metadata": {},
     "output_type": "execute_result"
    }
   ],
   "source": [
    "byteam.mean()"
   ]
  },
  {
   "cell_type": "code",
   "execution_count": 53,
   "metadata": {},
   "outputs": [],
   "source": [
    "def congrats(x):\n",
    "    if x >50:\n",
    "        return \"Congratulations\"\n",
    "    else:\n",
    "        return \"\""
   ]
  },
  {
   "cell_type": "code",
   "execution_count": 54,
   "metadata": {},
   "outputs": [],
   "source": [
    "df3['NAME']=df3['SCORE'].apply(congrats)+df3['NAME']"
   ]
  },
  {
   "cell_type": "code",
   "execution_count": 55,
   "metadata": {},
   "outputs": [
    {
     "data": {
      "text/html": [
       "<div>\n",
       "<style scoped>\n",
       "    .dataframe tbody tr th:only-of-type {\n",
       "        vertical-align: middle;\n",
       "    }\n",
       "\n",
       "    .dataframe tbody tr th {\n",
       "        vertical-align: top;\n",
       "    }\n",
       "\n",
       "    .dataframe thead th {\n",
       "        text-align: right;\n",
       "    }\n",
       "</style>\n",
       "<table border=\"1\" class=\"dataframe\">\n",
       "  <thead>\n",
       "    <tr style=\"text-align: right;\">\n",
       "      <th></th>\n",
       "      <th>TEAM</th>\n",
       "      <th>SEX</th>\n",
       "      <th>NAME</th>\n",
       "      <th>AGE</th>\n",
       "      <th>SCORE</th>\n",
       "    </tr>\n",
       "  </thead>\n",
       "  <tbody>\n",
       "    <tr>\n",
       "      <td>0</td>\n",
       "      <td>MI</td>\n",
       "      <td>FEMALE</td>\n",
       "      <td>P1</td>\n",
       "      <td>32</td>\n",
       "      <td>45</td>\n",
       "    </tr>\n",
       "    <tr>\n",
       "      <td>1</td>\n",
       "      <td>RCB</td>\n",
       "      <td>MALE</td>\n",
       "      <td>CongratulationsP2</td>\n",
       "      <td>22</td>\n",
       "      <td>67</td>\n",
       "    </tr>\n",
       "    <tr>\n",
       "      <td>2</td>\n",
       "      <td>RR</td>\n",
       "      <td>MALE</td>\n",
       "      <td>CongratulationsP3</td>\n",
       "      <td>23</td>\n",
       "      <td>55</td>\n",
       "    </tr>\n",
       "    <tr>\n",
       "      <td>3</td>\n",
       "      <td>RCB</td>\n",
       "      <td>MALE</td>\n",
       "      <td>P4</td>\n",
       "      <td>44</td>\n",
       "      <td>8</td>\n",
       "    </tr>\n",
       "    <tr>\n",
       "      <td>4</td>\n",
       "      <td>MI</td>\n",
       "      <td>FEMALE</td>\n",
       "      <td>CongratulationsP5</td>\n",
       "      <td>32</td>\n",
       "      <td>100</td>\n",
       "    </tr>\n",
       "    <tr>\n",
       "      <td>5</td>\n",
       "      <td>RR</td>\n",
       "      <td>MALE</td>\n",
       "      <td>P6</td>\n",
       "      <td>33</td>\n",
       "      <td>45</td>\n",
       "    </tr>\n",
       "  </tbody>\n",
       "</table>\n",
       "</div>"
      ],
      "text/plain": [
       "  TEAM     SEX               NAME  AGE  SCORE\n",
       "0   MI  FEMALE                 P1   32     45\n",
       "1  RCB    MALE  CongratulationsP2   22     67\n",
       "2   RR    MALE  CongratulationsP3   23     55\n",
       "3  RCB    MALE                 P4   44      8\n",
       "4   MI  FEMALE  CongratulationsP5   32    100\n",
       "5   RR    MALE                 P6   33     45"
      ]
     },
     "execution_count": 55,
     "metadata": {},
     "output_type": "execute_result"
    }
   ],
   "source": [
    "df3"
   ]
  },
  {
   "cell_type": "code",
   "execution_count": 56,
   "metadata": {},
   "outputs": [],
   "source": [
    "bill=pd.read_html('https://en.wikipedia.org/wiki/The_World%27s_Billionaires')"
   ]
  },
  {
   "cell_type": "code",
   "execution_count": 57,
   "metadata": {},
   "outputs": [
    {
     "data": {
      "text/plain": [
       "list"
      ]
     },
     "execution_count": 57,
     "metadata": {},
     "output_type": "execute_result"
    }
   ],
   "source": [
    "type(bill)"
   ]
  },
  {
   "cell_type": "code",
   "execution_count": 58,
   "metadata": {},
   "outputs": [
    {
     "data": {
      "text/html": [
       "<div>\n",
       "<style scoped>\n",
       "    .dataframe tbody tr th:only-of-type {\n",
       "        vertical-align: middle;\n",
       "    }\n",
       "\n",
       "    .dataframe tbody tr th {\n",
       "        vertical-align: top;\n",
       "    }\n",
       "\n",
       "    .dataframe thead th {\n",
       "        text-align: right;\n",
       "    }\n",
       "</style>\n",
       "<table border=\"1\" class=\"dataframe\">\n",
       "  <thead>\n",
       "    <tr style=\"text-align: right;\">\n",
       "      <th></th>\n",
       "      <th>No.</th>\n",
       "      <th>Name</th>\n",
       "      <th>Net worth (USD)</th>\n",
       "      <th>Age</th>\n",
       "      <th>Nationality</th>\n",
       "      <th>Source(s) of wealth</th>\n",
       "    </tr>\n",
       "  </thead>\n",
       "  <tbody>\n",
       "    <tr>\n",
       "      <td>0</td>\n",
       "      <td>1</td>\n",
       "      <td>Jeff Bezos</td>\n",
       "      <td>$131 billion</td>\n",
       "      <td>55</td>\n",
       "      <td>United States</td>\n",
       "      <td>Amazon</td>\n",
       "    </tr>\n",
       "    <tr>\n",
       "      <td>1</td>\n",
       "      <td>2</td>\n",
       "      <td>Bill Gates</td>\n",
       "      <td>$96.5 billion</td>\n",
       "      <td>63</td>\n",
       "      <td>United States</td>\n",
       "      <td>Microsoft</td>\n",
       "    </tr>\n",
       "    <tr>\n",
       "      <td>2</td>\n",
       "      <td>3</td>\n",
       "      <td>Warren Buffett</td>\n",
       "      <td>$82.5 billion</td>\n",
       "      <td>88</td>\n",
       "      <td>United States</td>\n",
       "      <td>Berkshire Hathaway</td>\n",
       "    </tr>\n",
       "    <tr>\n",
       "      <td>3</td>\n",
       "      <td>4</td>\n",
       "      <td>Bernard Arnault</td>\n",
       "      <td>$76 billion</td>\n",
       "      <td>70</td>\n",
       "      <td>France</td>\n",
       "      <td>LVMH</td>\n",
       "    </tr>\n",
       "    <tr>\n",
       "      <td>4</td>\n",
       "      <td>5</td>\n",
       "      <td>Carlos Slim</td>\n",
       "      <td>$64 billion</td>\n",
       "      <td>79</td>\n",
       "      <td>Mexico</td>\n",
       "      <td>América Móvil, Grupo Carso</td>\n",
       "    </tr>\n",
       "    <tr>\n",
       "      <td>5</td>\n",
       "      <td>6</td>\n",
       "      <td>Amancio Ortega</td>\n",
       "      <td>$62.7 billion</td>\n",
       "      <td>82</td>\n",
       "      <td>Spain</td>\n",
       "      <td>Inditex, Zara</td>\n",
       "    </tr>\n",
       "    <tr>\n",
       "      <td>6</td>\n",
       "      <td>7</td>\n",
       "      <td>Larry Ellison</td>\n",
       "      <td>$62.5 billion</td>\n",
       "      <td>74</td>\n",
       "      <td>United States</td>\n",
       "      <td>Oracle Corporation</td>\n",
       "    </tr>\n",
       "    <tr>\n",
       "      <td>7</td>\n",
       "      <td>8</td>\n",
       "      <td>Mark Zuckerberg</td>\n",
       "      <td>$62.3 billion</td>\n",
       "      <td>34</td>\n",
       "      <td>United States</td>\n",
       "      <td>Facebook</td>\n",
       "    </tr>\n",
       "    <tr>\n",
       "      <td>8</td>\n",
       "      <td>9</td>\n",
       "      <td>Michael Bloomberg</td>\n",
       "      <td>$55.5 billion</td>\n",
       "      <td>77</td>\n",
       "      <td>United States</td>\n",
       "      <td>Bloomberg L.P.</td>\n",
       "    </tr>\n",
       "    <tr>\n",
       "      <td>9</td>\n",
       "      <td>10</td>\n",
       "      <td>Larry Page</td>\n",
       "      <td>$50.8 billion</td>\n",
       "      <td>45</td>\n",
       "      <td>United States</td>\n",
       "      <td>Alphabet Inc.</td>\n",
       "    </tr>\n",
       "  </tbody>\n",
       "</table>\n",
       "</div>"
      ],
      "text/plain": [
       "   No.               Name Net worth (USD)  Age    Nationality  \\\n",
       "0    1         Jeff Bezos    $131 billion   55  United States   \n",
       "1    2         Bill Gates   $96.5 billion   63  United States   \n",
       "2    3     Warren Buffett   $82.5 billion   88  United States   \n",
       "3    4    Bernard Arnault     $76 billion   70         France   \n",
       "4    5        Carlos Slim     $64 billion   79         Mexico   \n",
       "5    6     Amancio Ortega   $62.7 billion   82          Spain   \n",
       "6    7      Larry Ellison   $62.5 billion   74  United States   \n",
       "7    8    Mark Zuckerberg   $62.3 billion   34  United States   \n",
       "8    9  Michael Bloomberg   $55.5 billion   77  United States   \n",
       "9   10         Larry Page   $50.8 billion   45  United States   \n",
       "\n",
       "          Source(s) of wealth  \n",
       "0                      Amazon  \n",
       "1                   Microsoft  \n",
       "2          Berkshire Hathaway  \n",
       "3                        LVMH  \n",
       "4  América Móvil, Grupo Carso  \n",
       "5               Inditex, Zara  \n",
       "6          Oracle Corporation  \n",
       "7                    Facebook  \n",
       "8              Bloomberg L.P.  \n",
       "9               Alphabet Inc.  "
      ]
     },
     "execution_count": 58,
     "metadata": {},
     "output_type": "execute_result"
    }
   ],
   "source": [
    "bill[3]"
   ]
  },
  {
   "cell_type": "code",
   "execution_count": 60,
   "metadata": {},
   "outputs": [
    {
     "data": {
      "text/plain": [
       "[                                                    0  \\\n",
       " 0   List of the world's billionaires, ranked in or...   \n",
       " 1                                                 NaN   \n",
       " 2   The net worth of the world's billionaires incr...   \n",
       " 3                                 Publication details   \n",
       " 4                                           Publisher   \n",
       " 5                                         Publication   \n",
       " 6                                     First published   \n",
       " 7                                  Latest publication   \n",
       " 8                      Current list details (2020)[2]   \n",
       " 9                                          Wealthiest   \n",
       " 10                                    Net worth (1st)   \n",
       " 11                             Number of billionaires   \n",
       " 12                         Total list net worth value   \n",
       " 13                            New members to the list   \n",
       " 14           Forbes: The World's Billionaires website   \n",
       " \n",
       "                                                     1  \n",
       " 0   List of the world's billionaires, ranked in or...  \n",
       " 1                                                 NaN  \n",
       " 2   The net worth of the world's billionaires incr...  \n",
       " 3                                 Publication details  \n",
       " 4                Whale Media InvestmentsForbes family  \n",
       " 5                                              Forbes  \n",
       " 6                                       March 1987[1]  \n",
       " 7                                       April 7, 2020  \n",
       " 8                      Current list details (2020)[2]  \n",
       " 9                                          Jeff Bezos  \n",
       " 10                                     US$113 billion  \n",
       " 11                                               2095  \n",
       " 12                                      US$8 trillion  \n",
       " 13                                                178  \n",
       " 14           Forbes: The World's Billionaires website  ,\n",
       "    Icon                                 Description\n",
       " 0   NaN  Has not changed from the previous ranking.\n",
       " 1   NaN    Has increased from the previous ranking.\n",
       " 2   NaN    Has decreased from the previous ranking.,\n",
       "    No.                        Name Net worth (USD)  Age    Nationality  \\\n",
       " 0    1                  Jeff Bezos    $113 billion   56  United States   \n",
       " 1    2                  Bill Gates     $98 billion   64  United States   \n",
       " 2    3  Bernard Arnault and family     $76 billion   71         France   \n",
       " 3    4              Warren Buffett   $67.5 billion   89  United States   \n",
       " 4    5               Larry Ellison     $59 billion   75  United States   \n",
       " 5    6              Amancio Ortega   $55.1 billion   84          Spain   \n",
       " 6    7             Mark Zuckerberg   $54.7 billion   35  United States   \n",
       " 7    8                  Jim Walton   $54.6 billion   71  United States   \n",
       " 8    9                Alice Walton   $54.4 billion   70  United States   \n",
       " 9   10            S. Robson Walton   $54.1 billion   77  United States   \n",
       " \n",
       "   Source(s) of wealth  \n",
       " 0              Amazon  \n",
       " 1           Microsoft  \n",
       " 2                LVMH  \n",
       " 3  Berkshire Hathaway  \n",
       " 4  Oracle Corporation  \n",
       " 5       Inditex, Zara  \n",
       " 6            Facebook  \n",
       " 7             Walmart  \n",
       " 8             Walmart  \n",
       " 9             Walmart  ,\n",
       "    No.               Name Net worth (USD)  Age    Nationality  \\\n",
       " 0    1         Jeff Bezos    $131 billion   55  United States   \n",
       " 1    2         Bill Gates   $96.5 billion   63  United States   \n",
       " 2    3     Warren Buffett   $82.5 billion   88  United States   \n",
       " 3    4    Bernard Arnault     $76 billion   70         France   \n",
       " 4    5        Carlos Slim     $64 billion   79         Mexico   \n",
       " 5    6     Amancio Ortega   $62.7 billion   82          Spain   \n",
       " 6    7      Larry Ellison   $62.5 billion   74  United States   \n",
       " 7    8    Mark Zuckerberg   $62.3 billion   34  United States   \n",
       " 8    9  Michael Bloomberg   $55.5 billion   77  United States   \n",
       " 9   10         Larry Page   $50.8 billion   45  United States   \n",
       " \n",
       "           Source(s) of wealth  \n",
       " 0                      Amazon  \n",
       " 1                   Microsoft  \n",
       " 2          Berkshire Hathaway  \n",
       " 3                        LVMH  \n",
       " 4  América Móvil, Grupo Carso  \n",
       " 5               Inditex, Zara  \n",
       " 6          Oracle Corporation  \n",
       " 7                    Facebook  \n",
       " 8              Bloomberg L.P.  \n",
       " 9               Alphabet Inc.  ,\n",
       "    No.             Name Net worth (USD)  Age    Nationality  \\\n",
       " 0    1       Jeff Bezos    $112 billion   54  United States   \n",
       " 1    2       Bill Gates     $90 billion   62  United States   \n",
       " 2    3   Warren Buffett     $84 billion   87  United States   \n",
       " 3    4  Bernard Arnault     $72 billion   69         France   \n",
       " 4    5  Mark Zuckerberg     $71 billion   33  United States   \n",
       " 5    6   Amancio Ortega     $70 billion   81          Spain   \n",
       " 6    7      Carlos Slim   $67.1 billion   78         Mexico   \n",
       " 7    8     Charles Koch     $60 billion   82  United States   \n",
       " 8    8       David Koch     $60 billion   77  United States   \n",
       " 9   10    Larry Ellison   $58.5 billion   73  United States   \n",
       " \n",
       "           Source(s) of wealth  \n",
       " 0                      Amazon  \n",
       " 1                   Microsoft  \n",
       " 2          Berkshire Hathaway  \n",
       " 3                        LVMH  \n",
       " 4                    Facebook  \n",
       " 5               Inditex, Zara  \n",
       " 6  América Móvil, Grupo Carso  \n",
       " 7             Koch Industries  \n",
       " 8             Koch Industries  \n",
       " 9          Oracle Corporation  ,\n",
       "    No.               Name Net worth (USD)  Age    Nationality  \\\n",
       " 0    1         Bill Gates   $86.0 billion   61  United States   \n",
       " 1    2     Warren Buffett   $75.6 billion   86  United States   \n",
       " 2    3         Jeff Bezos   $72.8 billion   53  United States   \n",
       " 3    4     Amancio Ortega   $71.3 billion   80          Spain   \n",
       " 4    5    Mark Zuckerberg   $56.0 billion   32  United States   \n",
       " 5    6        Carlos Slim   $54.5 billion   77         Mexico   \n",
       " 6    7      Larry Ellison   $52.2 billion   72  United States   \n",
       " 7    8       Charles Koch   $48.3 billion   81  United States   \n",
       " 8    8         David Koch   $48.3 billion   76  United States   \n",
       " 9   10  Michael Bloomberg   $47.5 billion   75  United States   \n",
       " \n",
       "           Source(s) of wealth  \n",
       " 0                   Microsoft  \n",
       " 1          Berkshire Hathaway  \n",
       " 2                      Amazon  \n",
       " 3               Inditex, Zara  \n",
       " 4                    Facebook  \n",
       " 5  América Móvil, Grupo Carso  \n",
       " 6          Oracle Corporation  \n",
       " 7             Koch Industries  \n",
       " 8             Koch Industries  \n",
       " 9              Bloomberg L.P.  ,\n",
       "    No.               Name Net worth (USD)  Age    Nationality  \\\n",
       " 0    1         Bill Gates   $75.0 billion   60  United States   \n",
       " 1    2     Amancio Ortega   $67.0 billion   79          Spain   \n",
       " 2    3     Warren Buffett   $60.8 billion   85  United States   \n",
       " 3    4        Carlos Slim   $50.0 billion   76         Mexico   \n",
       " 4    5         Jeff Bezos   $45.2 billion   52  United States   \n",
       " 5    6    Mark Zuckerberg   $44.6 billion   31  United States   \n",
       " 6    7      Larry Ellison   $43.6 billion   71  United States   \n",
       " 7    8  Michael Bloomberg   $40.0 billion   74  United States   \n",
       " 8    9       Charles Koch   $39.6 billion   80  United States   \n",
       " 9    9         David Koch   $39.6 billion   75  United States   \n",
       " \n",
       "           Source(s) of wealth  \n",
       " 0                   Microsoft  \n",
       " 1                     Inditex  \n",
       " 2          Berkshire Hathaway  \n",
       " 3  América Móvil, Grupo Carso  \n",
       " 4                      Amazon  \n",
       " 5                    Facebook  \n",
       " 6          Oracle Corporation  \n",
       " 7              Bloomberg L.P.  \n",
       " 8             Koch Industries  \n",
       " 9             Koch Industries  ,\n",
       "    No.                 Name Net worth (USD)  Age    Nationality  \\\n",
       " 0    1           Bill Gates   $79.2 billion   59  United States   \n",
       " 1    2          Carlos Slim   $77.1 billion   75         Mexico   \n",
       " 2    3       Warren Buffett   $72.7 billion   84  United States   \n",
       " 3    4       Amancio Ortega   $64.5 billion   78          Spain   \n",
       " 4    5        Larry Ellison   $54.3 billion   70  United States   \n",
       " 5    6         Charles Koch   $42.9 billion   79  United States   \n",
       " 6    6           David Koch   $42.9 billion   74  United States   \n",
       " 7    8       Christy Walton   $41.7 billion   66  United States   \n",
       " 8    9           Jim Walton   $40.6 billion   66  United States   \n",
       " 9   10  Liliane Bettencourt   $40.1 billion   92         France   \n",
       " \n",
       "           Source(s) of wealth  \n",
       " 0                   Microsoft  \n",
       " 1  América Móvil, Grupo Carso  \n",
       " 2          Berkshire Hathaway  \n",
       " 3                     Inditex  \n",
       " 4          Oracle Corporation  \n",
       " 5             Koch Industries  \n",
       " 6             Koch Industries  \n",
       " 7                     Walmart  \n",
       " 8                     Walmart  \n",
       " 9                     L'Oreal  ,\n",
       "    No.                     Name Net worth (USD)  Age    Nationality  \\\n",
       " 0    1               Bill Gates   $76.0 billion   58  United States   \n",
       " 1    2     Carlos Slim & family   $72.0 billion   74         Mexico   \n",
       " 2    3           Amancio Ortega   $64.0 billion   77          Spain   \n",
       " 3    4           Warren Buffett   $58.2 billion   83  United States   \n",
       " 4    5            Larry Ellison   $48.0 billion   70  United States   \n",
       " 5    6             Charles Koch   $40.0 billion   78  United States   \n",
       " 6    6               David Koch   $40.0 billion   73  United States   \n",
       " 7    8          Sheldon Adelson   $38.0 billion   80  United States   \n",
       " 8    9  Christy Walton & family   $36.7 billion   65  United States   \n",
       " 9   10               Jim Walton   $34.7 billion   65  United States   \n",
       " \n",
       "           Source(s) of wealth  \n",
       " 0                   Microsoft  \n",
       " 1  América Móvil, Grupo Carso  \n",
       " 2                     Inditex  \n",
       " 3          Berkshire Hathaway  \n",
       " 4          Oracle Corporation  \n",
       " 5             Koch Industries  \n",
       " 6             Koch Industries  \n",
       " 7             Las Vegas Sands  \n",
       " 8                     Walmart  \n",
       " 9                     Walmart  ,\n",
       "    No.                          Name Net worth (USD)  Age    Nationality  \\\n",
       " 0    1          Carlos Slim & family   $73.0 billion   73         Mexico   \n",
       " 1    2                    Bill Gates   $67.0 billion   57  United States   \n",
       " 2    3                Amancio Ortega   $57.0 billion   76          Spain   \n",
       " 3    4                Warren Buffett   $53.5 billion   82  United States   \n",
       " 4    5                 Larry Ellison   $43.0 billion   68  United States   \n",
       " 5    6                  Charles Koch   $34.0 billion   77  United States   \n",
       " 6    6                    David Koch   $34.0 billion   72  United States   \n",
       " 7    8                   Li Ka-shing   $31.0 billion   84      Hong Kong   \n",
       " 8    9  Liliane Bettencourt & family   $30.0 billion   90         France   \n",
       " 9   10               Bernard Arnault   $29.0 billion   63         France   \n",
       " \n",
       "           Source(s) of wealth  \n",
       " 0  América Móvil, Grupo Carso  \n",
       " 1                   Microsoft  \n",
       " 2               Inditex Group  \n",
       " 3          Berkshire Hathaway  \n",
       " 4          Oracle Corporation  \n",
       " 5             Koch Industries  \n",
       " 6             Koch Industries  \n",
       " 7        Cheung Kong Holdings  \n",
       " 8                     L'Oréal  \n",
       " 9                        LVMH  ,\n",
       "    No.                  Name Net worth (USD)  Age    Nationality  \\\n",
       " 0    1  Carlos Slim & family   $69.0 billion   72         Mexico   \n",
       " 1    2            Bill Gates   $61.0 billion   56  United States   \n",
       " 2    3        Warren Buffett   $44.0 billion   81  United States   \n",
       " 3    4       Bernard Arnault   $41.0 billion   63         France   \n",
       " 4    5        Amancio Ortega   $37.5 billion   75          Spain   \n",
       " 5    6         Larry Ellison   $36.0 billion   67  United States   \n",
       " 6    7          Eike Batista   $30.0 billion   55         Brazil   \n",
       " 7    8        Stefan Persson   $26.0 billion   64         Sweden   \n",
       " 8    9           Li Ka-shing   $25.5 billion   83      Hong Kong   \n",
       " 9   10         Karl Albrecht   $25.4 billion   92        Germany   \n",
       " \n",
       "                   Source(s) of wealth  \n",
       " 0          América Móvil, Grupo Carso  \n",
       " 1                           Microsoft  \n",
       " 2                  Berkshire Hathaway  \n",
       " 3  LVMH Moët Hennessy • Louis Vuitton  \n",
       " 4                       Inditex Group  \n",
       " 5                  Oracle Corporation  \n",
       " 6                           EBX Group  \n",
       " 7                                 H&M  \n",
       " 8                Cheung Kong Holdings  \n",
       " 9                                Aldi  ,\n",
       "    No.                     Name Net worth (USD)  Age    Nationality  \\\n",
       " 0    1     Carlos Slim & family   $74.0 billion   71         Mexico   \n",
       " 1    2               Bill Gates   $56.0 billion   55  United States   \n",
       " 2    3           Warren Buffett   $50.0 billion   80  United States   \n",
       " 3    4          Bernard Arnault   $41.0 billion   62         France   \n",
       " 4    5            Larry Ellison   $39.5 billion   66  United States   \n",
       " 5    6           Lakshmi Mittal   $31.1 billion   60          India   \n",
       " 6    7           Amancio Ortega   $31.0 billion   74          Spain   \n",
       " 7    8             Eike Batista   $30.0 billion   53         Brazil   \n",
       " 8    9            Mukesh Ambani   $27.0 billion   54          India   \n",
       " 9   10  Christy Walton & family   $26.5 billion   62  United States   \n",
       " \n",
       "                   Source(s) of wealth  \n",
       " 0          América Móvil, Grupo Carso  \n",
       " 1                           Microsoft  \n",
       " 2                  Berkshire Hathaway  \n",
       " 3  LVMH Moët Hennessy • Louis Vuitton  \n",
       " 4                  Oracle Corporation  \n",
       " 5                      Arcelor Mittal  \n",
       " 6                       Inditex Group  \n",
       " 7                           EBX Group  \n",
       " 8                 Reliance Industries  \n",
       " 9                             Walmart  ,\n",
       "    No.                  Name Net worth (USD)  Age    Nationality  \\\n",
       " 0    1  Carlos Slim & family   $53.5 billion   70         Mexico   \n",
       " 1    2            Bill Gates   $53.0 billion   54  United States   \n",
       " 2    3        Warren Buffett   $47.0 billion   79  United States   \n",
       " 3    4         Mukesh Ambani   $29.0 billion   53          India   \n",
       " 4    5        Lakshmi Mittal   $28.7 billion   60          India   \n",
       " 5    6         Larry Ellison   $28.0 billion   66  United States   \n",
       " 6    7       Bernard Arnault   $27.5 billion   61         France   \n",
       " 7    8          Eike Batista   $27.0 billion   53         Brazil   \n",
       " 8    9        Amancio Ortega   $25.0 billion   74          Spain   \n",
       " 9   10         Karl Albrecht   $23.5 billion   90        Germany   \n",
       " \n",
       "                   Source(s) of wealth  \n",
       " 0          América Móvil, Grupo Carso  \n",
       " 1                           Microsoft  \n",
       " 2                  Berkshire Hathaway  \n",
       " 3                 Reliance Industries  \n",
       " 4                      Arcelor Mittal  \n",
       " 5                  Oracle Corporation  \n",
       " 6  LVMH Moët Hennessy • Louis Vuitton  \n",
       " 7                           EBX Group  \n",
       " 8                       Inditex Group  \n",
       " 9                            Aldi Süd  ,\n",
       "    No.            Name Net worth (USD)  Age    Nationality  \\\n",
       " 0    1      Bill Gates   $40.0 billion   53  United States   \n",
       " 1    2  Warren Buffett   $37.0 billion   78  United States   \n",
       " 2    3     Carlos Slim   $35.0 billion   69         Mexico   \n",
       " 3    4   Larry Ellison   $22.5 billion   64  United States   \n",
       " 4    5  Ingvar Kamprad   $22.0 billion   83         Sweden   \n",
       " 5    6   Karl Albrecht   $21.5 billion   89        Germany   \n",
       " 6    7   Mukesh Ambani   $19.5 billion   52          India   \n",
       " 7    8  Lakshmi Mittal   $19.3 billion   58          India   \n",
       " 8    9   Theo Albrecht   $18.8 billion   87        Germany   \n",
       " 9   10  Amancio Ortega   $18.3 billion   73          Spain   \n",
       " \n",
       "           Source(s) of wealth  \n",
       " 0                   Microsoft  \n",
       " 1          Berkshire Hathaway  \n",
       " 2  América Móvil, Grupo Carso  \n",
       " 3          Oracle Corporation  \n",
       " 4                        IKEA  \n",
       " 5                    Aldi Süd  \n",
       " 6         Reliance Industries  \n",
       " 7              Arcelor Mittal  \n",
       " 8     Aldi Nord, Trader Joe's  \n",
       " 9               Inditex Group  ,\n",
       "    No.              Name Net worth (USD)  Age    Nationality  \\\n",
       " 0    1    Warren Buffett   $62.0 billion   77  United States   \n",
       " 1    2       Carlos Slim   $60.0 billion   68         Mexico   \n",
       " 2    3        Bill Gates   $58.0 billion   52  United States   \n",
       " 3    4    Lakshmi Mittal   $45.0 billion   57          India   \n",
       " 4    5     Mukesh Ambani   $43.0 billion   51          India   \n",
       " 5    6       Anil Ambani   $42.0 billion   48          India   \n",
       " 6    7    Ingvar Kamprad   $31.0 billion   81         Sweden   \n",
       " 7    8  Kushal Pal Singh   $30.0 billion   76          India   \n",
       " 8    9    Oleg Deripaska   $28.0 billion   40         Russia   \n",
       " 9   10     Karl Albrecht   $27.0 billion   88        Germany   \n",
       " \n",
       "            Source(s) of wealth  \n",
       " 0           Berkshire Hathaway  \n",
       " 1   América Móvil, Grupo Carso  \n",
       " 2                    Microsoft  \n",
       " 3               Arcelor Mittal  \n",
       " 4          Reliance Industries  \n",
       " 5  Anil Dhirubhai Ambani Group  \n",
       " 6                         IKEA  \n",
       " 7                    DLF Group  \n",
       " 8                        Rusal  \n",
       " 9                     Aldi Süd  ,\n",
       "    No.             Name Net worth (USD)  Age    Nationality  \\\n",
       " 0    1       Bill Gates   $56.0 billion   51  United States   \n",
       " 1    2   Warren Buffett   $52.0 billion   76  United States   \n",
       " 2    3      Carlos Slim   $49.0 billion   67         Mexico   \n",
       " 3    4   Ingvar Kamprad   $33.0 billion   80         Sweden   \n",
       " 4    5   Lakshmi Mittal   $32.0 billion   56          India   \n",
       " 5    6  Sheldon Adelson   $26.5 billion   73  United States   \n",
       " 6    7  Bernard Arnault   $26.0 billion   58         France   \n",
       " 7    8   Amancio Ortega   $24.0 billion   71          Spain   \n",
       " 8    9      Li Ka-shing   $23.0 billion   78      Hong Kong   \n",
       " 9   10    David Thomson   $22.0 billion   49         Canada   \n",
       " \n",
       "                        Source(s) of wealth  \n",
       " 0                                Microsoft  \n",
       " 1                       Berkshire Hathaway  \n",
       " 2               América Móvil, Grupo Carso  \n",
       " 3                                     IKEA  \n",
       " 4                           Arcelor Mittal  \n",
       " 5                          Las Vegas Sands  \n",
       " 6                                     LVMH  \n",
       " 7                            Inditex Group  \n",
       " 8  Cheung Kong Holdings, Hutchison Whampoa  \n",
       " 9                      Thomson Corporation  ,\n",
       "    No.                 Name Net worth (USD)  Age    Nationality  \\\n",
       " 0    1           Bill Gates   $52.0 billion   50  United States   \n",
       " 1    2       Warren Buffett   $42.0 billion   75  United States   \n",
       " 2    3          Carlos Slim   $30.0 billion   66         Mexico   \n",
       " 3    4       Ingvar Kamprad   $28.0 billion   79         Sweden   \n",
       " 4    5       Lakshmi Mittal   $23.5 billion   55          India   \n",
       " 5    6           Paul Allen   $22.0 billion   53  United States   \n",
       " 6    7      Bernard Arnault   $21.5 billion   57         France   \n",
       " 7    8  Al-Waleed bin Talal   $20.0 billion   49   Saudi Arabia   \n",
       " 8    9      Kenneth Thomson   $19.6 billion   82         Canada   \n",
       " 9   10          Li Ka-shing   $18.8 billion   77      Hong Kong   \n",
       " \n",
       "                     Source(s) of wealth  \n",
       " 0                             Microsoft  \n",
       " 1                    Berkshire Hathaway  \n",
       " 2            América Móvil, Grupo Carso  \n",
       " 3                                  IKEA  \n",
       " 4                  Mittal Steel Company  \n",
       " 5                             Microsoft  \n",
       " 6    LVMH Moët Hennessy • Louis Vuitton  \n",
       " 7               Kingdom Holding Company  \n",
       " 8                   Thomson Corporation  \n",
       " 9  Cheung Kong Group, Hutchison Whampoa  ,\n",
       "    No.                 Name Net worth (USD)  Age    Nationality  \\\n",
       " 0    1           Bill Gates   $46.5 billion   49  United States   \n",
       " 1    2       Warren Buffett   $44.0 billion   74  United States   \n",
       " 2    3       Lakshmi Mittal   $25.0 billion   54          India   \n",
       " 3    4          Carlos Slim   $23.8 billion   65         Mexico   \n",
       " 4    5  Al-Waleed bin Talal   $23.7 billion   49   Saudi Arabia   \n",
       " 5    6       Ingvar Kamprad   $23.0 billion   79         Sweden   \n",
       " 6    7           Paul Allen   $21.0 billion   52  United States   \n",
       " 7    8        Karl Albrecht   $18.5 billion   85        Germany   \n",
       " 8    9        Larry Ellison   $18.4 billion   60  United States   \n",
       " 9   10     S. Robson Walton   $18.3 billion   61  United States   \n",
       " \n",
       "           Source(s) of wealth  \n",
       " 0                   Microsoft  \n",
       " 1          Berkshire Hathaway  \n",
       " 2        Mittal Steel Company  \n",
       " 3  América Móvil, Grupo Carso  \n",
       " 4     Kingdom Holding Company  \n",
       " 5                        IKEA  \n",
       " 6                   Microsoft  \n",
       " 7                    Aldi Süd  \n",
       " 8          Oracle Corporation  \n",
       " 9                     Walmart  ,\n",
       "    No.                 Name Net worth (USD)  Age    Nationality  \\\n",
       " 0    1           Bill Gates   $46.6 billion   48  United States   \n",
       " 1    2       Warren Buffett   $42.9 billion   73  United States   \n",
       " 2    3        Karl Albrecht   $23.0 billion   84        Germany   \n",
       " 3    4  Al-Waleed bin Talal   $21.5 billion   47   Saudi Arabia   \n",
       " 4    5           Paul Allen   $21.0 billion   51  United States   \n",
       " 5    6        Alice Walton*   $20.0 billion   55  United States   \n",
       " 6    6        Helen Walton*   $20.0 billion   84  United States   \n",
       " 7    6          Jim Walton*   $20.0 billion   56  United States   \n",
       " 8    6         John Walton*   $20.0 billion   58  United States   \n",
       " 9    6    S. Robson Walton*   $20.0 billion   60  United States   \n",
       " \n",
       "        Source(s) of wealth  \n",
       " 0                Microsoft  \n",
       " 1       Berkshire Hathaway  \n",
       " 2                 Aldi Süd  \n",
       " 3  Kingdom Holding Company  \n",
       " 4                Microsoft  \n",
       " 5                 Wal-Mart  \n",
       " 6                 Wal-Mart  \n",
       " 7                 Wal-Mart  \n",
       " 8                 Wal-Mart  \n",
       " 9                 Wal-Mart  ,\n",
       "     No.                    Name Net worth (USD)  Age    Nationality  \\\n",
       " 0     1              Bill Gates   $40.7 billion   47  United States   \n",
       " 1     2          Warren Buffett   $30.5 billion   72  United States   \n",
       " 2     3  Karl and Theo Albrecht   $25.6 billion   83        Germany   \n",
       " 3     4              Paul Allen   $20.1 billion   50  United States   \n",
       " 4     5     Al-Waleed bin Talal   $17.7 billion   46   Saudi Arabia   \n",
       " 5     6           Larry Ellison   $16.6 billion   58  United States   \n",
       " 6     7           Alice Walton*   $16.5 billion   54  United States   \n",
       " 7     7           Helen Walton*   $16.5 billion   83  United States   \n",
       " 8     7             Jim Walton*   $16.5 billion   55  United States   \n",
       " 9     7            John Walton*   $16.5 billion   57  United States   \n",
       " 10    7       S. Robson Walton*   $16.5 billion   59  United States   \n",
       " \n",
       "         Source(s) of wealth  \n",
       " 0                 Microsoft  \n",
       " 1        Berkshire Hathaway  \n",
       " 2                  Aldi Süd  \n",
       " 3                 Microsoft  \n",
       " 4   Kingdom Holding Company  \n",
       " 5        Oracle Corporation  \n",
       " 6                  Wal-Mart  \n",
       " 7                  Wal-Mart  \n",
       " 8                  Wal-Mart  \n",
       " 9                  Wal-Mart  \n",
       " 10                 Wal-Mart  ,\n",
       "    No.                    Name Net worth (USD)  Age    Nationality  \\\n",
       " 0    1              Bill Gates   $52.8 billion   46  United States   \n",
       " 1    2          Warren Buffett   $35.0 billion   71  United States   \n",
       " 2    3  Karl and Theo Albrecht   $26.8 billion   82        Germany   \n",
       " 3    4              Paul Allen   $25.2 billion   49  United States   \n",
       " 4    5           Larry Ellison   $23.5 billion   57  United States   \n",
       " 5    6             Jim Walton*   $20.8 billion   54  United States   \n",
       " 6    7            John Walton*   $20.7 billion   56  United States   \n",
       " 7    8           Alice Walton*   $20.5 billion   53  United States   \n",
       " 8    8       S. Robson Walton*   $20.5 billion   58  United States   \n",
       " 9    8           Helen Walton*   $20.5 billion   82  United States   \n",
       " \n",
       "   Source(s) of wealth  \n",
       " 0           Microsoft  \n",
       " 1  Berkshire Hathaway  \n",
       " 2            Aldi Süd  \n",
       " 3           Microsoft  \n",
       " 4  Oracle Corporation  \n",
       " 5            Wal-Mart  \n",
       " 6            Wal-Mart  \n",
       " 7            Wal-Mart  \n",
       " 8            Wal-Mart  \n",
       " 9            Wal-Mart  ,\n",
       "     No.                    Name Net worth (USD)  Age    Nationality  \\\n",
       " 0     1              Bill Gates   $58.7 billion   45  United States   \n",
       " 1     2          Warren Buffett   $32.3 billion   70  United States   \n",
       " 2     3              Paul Allen   $30.4 billion   48  United States   \n",
       " 3     4           Larry Ellison   $26.0 billion   56  United States   \n",
       " 4     5  Karl and Theo Albrecht   $25.0 billion   81        Germany   \n",
       " 5     6     Al-Waleed bin Talal   $20.0 billion   44   Saudi Arabia   \n",
       " 6     7             Jim Walton*   $18.8 billion   53  United States   \n",
       " 7     8            John Walton*   $18.7 billion   55  United States   \n",
       " 8     9       S. Robson Walton*   $18.6 billion   57  United States   \n",
       " 9    10           Alice Walton*   $18.5 billion   52  United States   \n",
       " 10   10           Helen Walton*   $18.5 billion   81  United States   \n",
       " \n",
       "         Source(s) of wealth  \n",
       " 0                 Microsoft  \n",
       " 1        Berkshire Hathaway  \n",
       " 2                 Microsoft  \n",
       " 3        Oracle Corporation  \n",
       " 4                      Aldi  \n",
       " 5   Kingdom Holding Company  \n",
       " 6                  Wal-Mart  \n",
       " 7                  Wal-Mart  \n",
       " 8                  Wal-Mart  \n",
       " 9                  Wal-Mart  \n",
       " 10                 Wal-Mart  ,\n",
       "    No.                    Name Net worth (USD)  Age    Nationality  \\\n",
       " 0    1              Bill Gates   $60.0 billion   44  United States   \n",
       " 1    2           Larry Ellison   $47.0 billion   55  United States   \n",
       " 2    3              Paul Allen   $28.0 billion   47  United States   \n",
       " 3    4          Warren Buffett   $25.6 billion   69  United States   \n",
       " 4    5  Karl and Theo Albrecht   $20.0 billion   80        Germany   \n",
       " 5    6     Al-Waleed bin Talal   $20.0 billion   43   Saudi Arabia   \n",
       " 6    7        S. Robson Walton   $20.0 billion   57  United States   \n",
       " 7    8           Masayoshi Son   $19.4 billion   43          Japan   \n",
       " 8    9            Michael Dell   $19.1 billion   35  United States   \n",
       " 9   10         Kenneth Thomson   $16.1 billion   77         Canada   \n",
       " \n",
       "                  Source(s) of wealth  \n",
       " 0                          Microsoft  \n",
       " 1                 Oracle Corporation  \n",
       " 2                          Microsoft  \n",
       " 3                 Berkshire Hathaway  \n",
       " 4                           Aldi Süd  \n",
       " 5            Kingdom Holding Company  \n",
       " 6                           Wal-Mart  \n",
       " 7  Softbank Capital, SoftBank Mobile  \n",
       " 8                               Dell  \n",
       " 9            The Thomson Corporation  ,\n",
       "                                Year           Number of billionaires  \\\n",
       " 0                              2020                             2095   \n",
       " 1                              2019                             2153   \n",
       " 2                              2018                             2208   \n",
       " 3                              2017                             2043   \n",
       " 4                              2016                             1810   \n",
       " 5                           2015[7]                             1826   \n",
       " 6                          2014[52]                             1645   \n",
       " 7                          2013[53]                             1426   \n",
       " 8                              2012                             1226   \n",
       " 9                              2011                             1210   \n",
       " 10                             2010                             1011   \n",
       " 11                             2009                              793   \n",
       " 12                             2008                             1125   \n",
       " 13                             2007                              946   \n",
       " 14                             2006                              793   \n",
       " 15                             2005                              691   \n",
       " 16                             2004                              587   \n",
       " 17                             2003                              476   \n",
       " 18                             2002                              497   \n",
       " 19                             2001                              538   \n",
       " 20                             2000                              470   \n",
       " 21  Sources: Forbes.[7][52][51][53]  Sources: Forbes.[7][52][51][53]   \n",
       " \n",
       "          Group's combined net worth  \n",
       " 0                     $8.0 trillion  \n",
       " 1                     $8.7 trillion  \n",
       " 2                     $9.1 trillion  \n",
       " 3                     $7.7 trillion  \n",
       " 4                     $6.5 trillion  \n",
       " 5                     $7.1 trillion  \n",
       " 6                     $6.4 trillion  \n",
       " 7                     $5.4 trillion  \n",
       " 8                     $4.6 trillion  \n",
       " 9                     $4.5 trillion  \n",
       " 10                    $3.6 trillion  \n",
       " 11                    $2.4 trillion  \n",
       " 12                    $4.4 trillion  \n",
       " 13                    $3.5 trillion  \n",
       " 14                    $2.6 trillion  \n",
       " 15                    $2.2 trillion  \n",
       " 16                    $1.9 trillion  \n",
       " 17                    $1.4 trillion  \n",
       " 18                    $1.5 trillion  \n",
       " 19                    $1.8 trillion  \n",
       " 20                              NaN  \n",
       " 21  Sources: Forbes.[7][52][51][53]  ,\n",
       "   vteForbes magazine                               vteForbes magazine.1  \\\n",
       " 0          Companies                             Global 2000 Forbes 500   \n",
       " 1             People  General Celebrity 100 30 Under 30 China Celebr...   \n",
       " 2            General  Celebrity 100 30 Under 30 China Celebrity 100 ...   \n",
       " 3            Richest  The World's Billionaires Forbes 400 Australia’...   \n",
       " 4             Places                            America's Best Colleges   \n",
       " 5             Sports  Highest-paid athletes Most valuable sports tea...   \n",
       " 6         Technology                Midas List (Tech's Top Deal Makers)   \n",
       " \n",
       "    vteForbes magazine.2  \n",
       " 0                   NaN  \n",
       " 1                   NaN  \n",
       " 2                   NaN  \n",
       " 3                   NaN  \n",
       " 4                   NaN  \n",
       " 5                   NaN  \n",
       " 6                   NaN  ,\n",
       "          0                                                  1\n",
       " 0  General  Celebrity 100 30 Under 30 China Celebrity 100 ...\n",
       " 1  Richest  The World's Billionaires Forbes 400 Australia’...,\n",
       "   vteBillionaires                                  vteBillionaires.1\n",
       " 0  By citizenship  Argentina Austria Brazil Canada China (PRC) Cy...\n",
       " 1       By region                                              World\n",
       " 2    Forbes lists  2010 2011 2012 2013 2014 2015 2016 2017 2018 2...\n",
       " 3           Other  Black Bloomberg Billionaires Index Forbes Fict...,\n",
       "                                     vteExtreme wealth  \\\n",
       " 0                                            Concepts   \n",
       " 1   Capital accumulation Overaccumulation Economic...   \n",
       " 2                                              People   \n",
       " 3                                              Wealth   \n",
       " 4                                               Lists   \n",
       " 5                                              People   \n",
       " 6                                       Organizations   \n",
       " 7                                               Other   \n",
       " 8                                            See also   \n",
       " 9   Diseases of affluence Affluenza Argumentum ad ...   \n",
       " 10                                       Philanthropy   \n",
       " 11                                            Sayings   \n",
       " 12                                              Media   \n",
       " 13         Category By Country Commons Search Commons   \n",
       " \n",
       "                                   vteExtreme wealth.1  \n",
       " 0   Capital accumulation Overaccumulation Economic...  \n",
       " 1   Capital accumulation Overaccumulation Economic...  \n",
       " 2   Billionaire Centimillionaire Millionaire Capta...  \n",
       " 3   Concentration Distribution Dynastic Effect Geo...  \n",
       " 4   People Forbes list of billionaires Female bill...  \n",
       " 5   Forbes list of billionaires Female billionaire...  \n",
       " 6   Largest companies by revenue Largest corporate...  \n",
       " 7   Cities by number of billionaires Countries by ...  \n",
       " 8   Diseases of affluence Affluenza Argumentum ad ...  \n",
       " 9   Diseases of affluence Affluenza Argumentum ad ...  \n",
       " 10  Gospel of Wealth The Giving Pledge Philanthroc...  \n",
       " 11  The rich get richer and the poor get poorer So...  \n",
       " 12  Capitalism and Freedom Plutus Greek god of wea...  \n",
       " 13         Category By Country Commons Search Commons  ,\n",
       "                                                    0  \\\n",
       " 0  Capital accumulation Overaccumulation Economic...   \n",
       " 1                                             People   \n",
       " 2                                             Wealth   \n",
       " \n",
       "                                                    1  \n",
       " 0  Capital accumulation Overaccumulation Economic...  \n",
       " 1  Billionaire Centimillionaire Millionaire Capta...  \n",
       " 2  Concentration Distribution Dynastic Effect Geo...  ,\n",
       "                0                                                  1\n",
       " 0         People  Forbes list of billionaires Female billionaire...\n",
       " 1  Organizations  Largest companies by revenue Largest corporate...\n",
       " 2          Other  Cities by number of billionaires Countries by ...,\n",
       "                                                    0  \\\n",
       " 0  Diseases of affluence Affluenza Argumentum ad ...   \n",
       " 1                                       Philanthropy   \n",
       " 2                                            Sayings   \n",
       " 3                                              Media   \n",
       " \n",
       "                                                    1  \n",
       " 0  Diseases of affluence Affluenza Argumentum ad ...  \n",
       " 1  Gospel of Wealth The Giving Pledge Philanthroc...  \n",
       " 2  The rich get richer and the poor get poorer So...  \n",
       " 3  Capitalism and Freedom Plutus Greek god of wea...  ,\n",
       "   vteThe World's Billionaires – Top ten richest people in the world as of 5 March 2019  \\\n",
       " 0  Jeff Bezos ($131B, United States)  Bill Gates ...                                     \n",
       " \n",
       "   vteThe World's Billionaires – Top ten richest people in the world as of 5 March 2019.1  \n",
       " 0  Jeff Bezos ($131B, United States)  Bill Gates ...                                      ]"
      ]
     },
     "execution_count": 60,
     "metadata": {},
     "output_type": "execute_result"
    }
   ],
   "source": [
    "bill"
   ]
  },
  {
   "cell_type": "code",
   "execution_count": 61,
   "metadata": {},
   "outputs": [],
   "source": [
    "df5=pd.DataFrame(data=np.random.randint(1,100,(100,3)),columns=['C1','C2','C3'])"
   ]
  },
  {
   "cell_type": "code",
   "execution_count": 62,
   "metadata": {},
   "outputs": [
    {
     "data": {
      "text/html": [
       "<div>\n",
       "<style scoped>\n",
       "    .dataframe tbody tr th:only-of-type {\n",
       "        vertical-align: middle;\n",
       "    }\n",
       "\n",
       "    .dataframe tbody tr th {\n",
       "        vertical-align: top;\n",
       "    }\n",
       "\n",
       "    .dataframe thead th {\n",
       "        text-align: right;\n",
       "    }\n",
       "</style>\n",
       "<table border=\"1\" class=\"dataframe\">\n",
       "  <thead>\n",
       "    <tr style=\"text-align: right;\">\n",
       "      <th></th>\n",
       "      <th>C1</th>\n",
       "      <th>C2</th>\n",
       "      <th>C3</th>\n",
       "    </tr>\n",
       "  </thead>\n",
       "  <tbody>\n",
       "    <tr>\n",
       "      <td>0</td>\n",
       "      <td>6</td>\n",
       "      <td>40</td>\n",
       "      <td>75</td>\n",
       "    </tr>\n",
       "    <tr>\n",
       "      <td>1</td>\n",
       "      <td>93</td>\n",
       "      <td>48</td>\n",
       "      <td>57</td>\n",
       "    </tr>\n",
       "    <tr>\n",
       "      <td>2</td>\n",
       "      <td>48</td>\n",
       "      <td>18</td>\n",
       "      <td>36</td>\n",
       "    </tr>\n",
       "    <tr>\n",
       "      <td>3</td>\n",
       "      <td>98</td>\n",
       "      <td>65</td>\n",
       "      <td>20</td>\n",
       "    </tr>\n",
       "    <tr>\n",
       "      <td>4</td>\n",
       "      <td>17</td>\n",
       "      <td>19</td>\n",
       "      <td>69</td>\n",
       "    </tr>\n",
       "    <tr>\n",
       "      <td>...</td>\n",
       "      <td>...</td>\n",
       "      <td>...</td>\n",
       "      <td>...</td>\n",
       "    </tr>\n",
       "    <tr>\n",
       "      <td>95</td>\n",
       "      <td>80</td>\n",
       "      <td>49</td>\n",
       "      <td>72</td>\n",
       "    </tr>\n",
       "    <tr>\n",
       "      <td>96</td>\n",
       "      <td>77</td>\n",
       "      <td>77</td>\n",
       "      <td>58</td>\n",
       "    </tr>\n",
       "    <tr>\n",
       "      <td>97</td>\n",
       "      <td>38</td>\n",
       "      <td>54</td>\n",
       "      <td>17</td>\n",
       "    </tr>\n",
       "    <tr>\n",
       "      <td>98</td>\n",
       "      <td>72</td>\n",
       "      <td>50</td>\n",
       "      <td>62</td>\n",
       "    </tr>\n",
       "    <tr>\n",
       "      <td>99</td>\n",
       "      <td>32</td>\n",
       "      <td>54</td>\n",
       "      <td>67</td>\n",
       "    </tr>\n",
       "  </tbody>\n",
       "</table>\n",
       "<p>100 rows × 3 columns</p>\n",
       "</div>"
      ],
      "text/plain": [
       "    C1  C2  C3\n",
       "0    6  40  75\n",
       "1   93  48  57\n",
       "2   48  18  36\n",
       "3   98  65  20\n",
       "4   17  19  69\n",
       "..  ..  ..  ..\n",
       "95  80  49  72\n",
       "96  77  77  58\n",
       "97  38  54  17\n",
       "98  72  50  62\n",
       "99  32  54  67\n",
       "\n",
       "[100 rows x 3 columns]"
      ]
     },
     "execution_count": 62,
     "metadata": {},
     "output_type": "execute_result"
    }
   ],
   "source": [
    "df5"
   ]
  },
  {
   "cell_type": "code",
   "execution_count": 63,
   "metadata": {},
   "outputs": [
    {
     "data": {
      "text/html": [
       "<div>\n",
       "<style scoped>\n",
       "    .dataframe tbody tr th:only-of-type {\n",
       "        vertical-align: middle;\n",
       "    }\n",
       "\n",
       "    .dataframe tbody tr th {\n",
       "        vertical-align: top;\n",
       "    }\n",
       "\n",
       "    .dataframe thead th {\n",
       "        text-align: right;\n",
       "    }\n",
       "</style>\n",
       "<table border=\"1\" class=\"dataframe\">\n",
       "  <thead>\n",
       "    <tr style=\"text-align: right;\">\n",
       "      <th></th>\n",
       "      <th>C1</th>\n",
       "      <th>C2</th>\n",
       "      <th>C3</th>\n",
       "    </tr>\n",
       "  </thead>\n",
       "  <tbody>\n",
       "    <tr>\n",
       "      <td>0</td>\n",
       "      <td>6</td>\n",
       "      <td>40</td>\n",
       "      <td>75</td>\n",
       "    </tr>\n",
       "    <tr>\n",
       "      <td>1</td>\n",
       "      <td>93</td>\n",
       "      <td>48</td>\n",
       "      <td>57</td>\n",
       "    </tr>\n",
       "    <tr>\n",
       "      <td>2</td>\n",
       "      <td>48</td>\n",
       "      <td>18</td>\n",
       "      <td>36</td>\n",
       "    </tr>\n",
       "    <tr>\n",
       "      <td>3</td>\n",
       "      <td>98</td>\n",
       "      <td>65</td>\n",
       "      <td>20</td>\n",
       "    </tr>\n",
       "    <tr>\n",
       "      <td>4</td>\n",
       "      <td>17</td>\n",
       "      <td>19</td>\n",
       "      <td>69</td>\n",
       "    </tr>\n",
       "  </tbody>\n",
       "</table>\n",
       "</div>"
      ],
      "text/plain": [
       "   C1  C2  C3\n",
       "0   6  40  75\n",
       "1  93  48  57\n",
       "2  48  18  36\n",
       "3  98  65  20\n",
       "4  17  19  69"
      ]
     },
     "execution_count": 63,
     "metadata": {},
     "output_type": "execute_result"
    }
   ],
   "source": [
    "df5.head()"
   ]
  },
  {
   "cell_type": "code",
   "execution_count": 64,
   "metadata": {},
   "outputs": [
    {
     "data": {
      "text/plain": [
       "<matplotlib.axes._subplots.AxesSubplot at 0x151b6d2ef08>"
      ]
     },
     "execution_count": 64,
     "metadata": {},
     "output_type": "execute_result"
    }
   ],
   "source": [
    "df5['C1'].plot.area()"
   ]
  },
  {
   "cell_type": "code",
   "execution_count": 65,
   "metadata": {},
   "outputs": [
    {
     "data": {
      "text/plain": [
       "<matplotlib.axes._subplots.AxesSubplot at 0x151b8c12888>"
      ]
     },
     "execution_count": 65,
     "metadata": {},
     "output_type": "execute_result"
    },
    {
     "data": {
      "image/png": "[encoded data removed]",
      "text/plain": [
       "<Figure size 432x288 with 1 Axes>"
      ]
     },
     "metadata": {
      "needs_background": "light"
     },
     "output_type": "display_data"
    }
   ],
   "source": [
    "df5['C2'].plot.bar()"
   ]
  },
  {
   "cell_type": "code",
   "execution_count": 66,
   "metadata": {},
   "outputs": [
    {
     "data": {
      "text/plain": [
       "<matplotlib.axes._subplots.AxesSubplot at 0x151b8eaf1c8>"
      ]
     },
     "execution_count": 66,
     "metadata": {},
     "output_type": "execute_result"
    },
    {
     "data": {
      "image/png": "[encoded data removed]",
      "text/plain": [
       "<Figure size 432x288 with 1 Axes>"
      ]
     },
     "metadata": {
      "needs_background": "light"
     },
     "output_type": "display_data"
    }
   ],
   "source": [
    "df5['C2'].plot.barh()"
   ]
  },
  {
   "cell_type": "code",
   "execution_count": 67,
   "metadata": {},
   "outputs": [
    {
     "data": {
      "text/plain": [
       "<matplotlib.axes._subplots.AxesSubplot at 0x151b8ec3788>"
      ]
     },
     "execution_count": 67,
     "metadata": {},
     "output_type": "execute_result"
    },
    {
     "data": {
      "image/png": "[encoded data removed]",
      "text/plain": [
       "<Figure size 432x288 with 1 Axes>"
      ]
     },
     "metadata": {
      "needs_background": "light"
     },
     "output_type": "display_data"
    }
   ],
   "source": [
    "df.plot.bar()"
   ]
  },
  {
   "cell_type": "code",
   "execution_count": 68,
   "metadata": {},
   "outputs": [
    {
     "data": {
      "text/plain": [
       "<matplotlib.axes._subplots.AxesSubplot at 0x151b91d6108>"
      ]
     },
     "execution_count": 68,
     "metadata": {},
     "output_type": "execute_result"
    },
    {
     "data": {
      "image/png": "[encoded data removed]",
      "text/plain": [
       "<Figure size 432x288 with 1 Axes>"
      ]
     },
     "metadata": {
      "needs_background": "light"
     },
     "output_type": "display_data"
    }
   ],
   "source": [
    "df5.plot.area()"
   ]
  },
  {
   "cell_type": "code",
   "execution_count": 69,
   "metadata": {},
   "outputs": [
    {
     "data": {
      "text/plain": [
       "<matplotlib.axes._subplots.AxesSubplot at 0x151b9256cc8>"
      ]
     },
     "execution_count": 69,
     "metadata": {},
     "output_type": "execute_result"
    },
    {
     "data": {
      "image/png": "[encoded data removed]",
      "text/plain": [
       "<Figure size 432x288 with 1 Axes>"
      ]
     },
     "metadata": {
      "needs_background": "light"
     },
     "output_type": "display_data"
    }
   ],
   "source": [
    "df5.plot.bar()"
   ]
  },
  {
   "cell_type": "code",
   "execution_count": 70,
   "metadata": {},
   "outputs": [
    {
     "data": {
      "text/plain": [
       "<matplotlib.axes._subplots.AxesSubplot at 0x151b96c89c8>"
      ]
     },
     "execution_count": 70,
     "metadata": {},
     "output_type": "execute_result"
    },
    {
     "data": {
      "image/png": "[encoded data removed]",
      "text/plain": [
       "<Figure size 432x288 with 1 Axes>"
      ]
     },
     "metadata": {
      "needs_background": "light"
     },
     "output_type": "display_data"
    }
   ],
   "source": [
    "df5['C2'].plot.line()"
   ]
  },
  {
   "cell_type": "code",
   "execution_count": 71,
   "metadata": {},
   "outputs": [
    {
     "data": {
      "text/plain": [
       "<matplotlib.axes._subplots.AxesSubplot at 0x151b86df7c8>"
      ]
     },
     "execution_count": 71,
     "metadata": {},
     "output_type": "execute_result"
    },
    {
     "data": {
      "image/png": "[encoded data removed]",
      "text/plain": [
       "<Figure size 432x288 with 1 Axes>"
      ]
     },
     "metadata": {
      "needs_background": "light"
     },
     "output_type": "display_data"
    }
   ],
   "source": [
    "df5['C2'].plot.box()"
   ]
  },
  {
   "cell_type": "code",
   "execution_count": 72,
   "metadata": {},
   "outputs": [
    {
     "data": {
      "text/plain": [
       "<matplotlib.axes._subplots.AxesSubplot at 0x151b97aa508>"
      ]
     },
     "execution_count": 72,
     "metadata": {},
     "output_type": "execute_result"
    },
    {
     "data": {
      "image/png": "[encoded data removed]",
      "text/plain": [
       "<Figure size 432x288 with 1 Axes>"
      ]
     },
     "metadata": {
      "needs_background": "light"
     },
     "output_type": "display_data"
    }
   ],
   "source": [
    "df5.plot.box()"
   ]
  },
  {
   "cell_type": "code",
   "execution_count": 73,
   "metadata": {},
   "outputs": [
    {
     "data": {
      "text/plain": [
       "<matplotlib.axes._subplots.AxesSubplot at 0x151b981e448>"
      ]
     },
     "execution_count": 73,
     "metadata": {},
     "output_type": "execute_result"
    },
    {
     "data": {
      "image/png": "[encoded data removed]",
      "text/plain": [
       "<Figure size 432x288 with 1 Axes>"
      ]
     },
     "metadata": {
      "needs_background": "light"
     },
     "output_type": "display_data"
    }
   ],
   "source": [
    "df5.plot.scatter(x='C1',y='C2')"
   ]
  },
  {
   "cell_type": "code",
   "execution_count": 74,
   "metadata": {},
   "outputs": [
    {
     "data": {
      "text/plain": [
       "<matplotlib.axes._subplots.AxesSubplot at 0x151b983ad08>"
      ]
     },
     "execution_count": 74,
     "metadata": {},
     "output_type": "execute_result"
    },
    {
     "data": {
      "image/png": "[encoded data removed]",
      "text/plain": [
       "<Figure size 432x288 with 1 Axes>"
      ]
     },
     "metadata": {
      "needs_background": "light"
     },
     "output_type": "display_data"
    }
   ],
   "source": [
    "df5.plot.hist()"
   ]
  },
  {
   "cell_type": "markdown",
   "metadata": {},
   "source": [
    "# MATPLOTLIB"
   ]
  },
  {
   "cell_type": "code",
   "execution_count": 76,
   "metadata": {},
   "outputs": [],
   "source": [
    "import matplotlib.pyplot as plt"
   ]
  },
  {
   "cell_type": "code",
   "execution_count": 75,
   "metadata": {},
   "outputs": [],
   "source": [
    "%matplotlib inline"
   ]
  },
  {
   "cell_type": "code",
   "execution_count": 77,
   "metadata": {},
   "outputs": [],
   "source": [
    "m=np.linspace(1,10,100)\n",
    "y=np.sin(m)\n",
    "z=np.cos(m)"
   ]
  },
  {
   "cell_type": "code",
   "execution_count": 78,
   "metadata": {},
   "outputs": [
    {
     "data": {
      "text/plain": [
       "array([ 0.54030231,  0.46167915,  0.37924309,  0.29367495,  0.20568142,\n",
       "        0.11598921,  0.02533907, -0.06552034, -0.15583863, -0.24486989,\n",
       "       -0.33187882, -0.41614684, -0.49697799, -0.57370472, -0.64569335,\n",
       "       -0.71234935, -0.77312222, -0.82751004, -0.87506365, -0.91539031,\n",
       "       -0.94815696, -0.97309301, -0.9899925 , -0.99871586, -0.99919106,\n",
       "       -0.99141417, -0.97544941, -0.95142864, -0.91955024, -0.88007748,\n",
       "       -0.83333636, -0.7797129 , -0.71964997, -0.65364362, -0.58223897,\n",
       "       -0.50602575, -0.42563337, -0.34172578, -0.25499596, -0.16616018,\n",
       "       -0.07595213,  0.0148832 ,  0.10559561,  0.19543593,  0.28366219,\n",
       "        0.36954574,  0.45237731,  0.53147279,  0.60617896,  0.67587883,\n",
       "        0.73999678,  0.79800326,  0.84941921,  0.89382   ,  0.93083894,\n",
       "        0.96017029,  0.98157181,  0.99486675,  0.99994532,  0.99676556,\n",
       "        0.98535374,  0.96580411,  0.93827813,  0.90300312,  0.86027041,\n",
       "        0.81043292,  0.75390225,  0.69114528,  0.62268029,  0.54907273,\n",
       "        0.4709305 ,  0.38889897,  0.3036556 ,  0.21590442,  0.12637012,\n",
       "        0.03579217, -0.05508138, -0.14550003, -0.23471703, -0.32199555,\n",
       "       -0.40661479, -0.48787588, -0.56510772, -0.63767247, -0.70497082,\n",
       "       -0.76644698, -0.82159322, -0.86995412, -0.91113026, -0.94478159,\n",
       "       -0.97063017, -0.98846255, -0.99813143, -0.99955698, -0.99272741,\n",
       "       -0.97769914, -0.95459626, -0.9236096 , -0.88499505, -0.83907153])"
      ]
     },
     "execution_count": 78,
     "metadata": {},
     "output_type": "execute_result"
    }
   ],
   "source": [
    "z"
   ]
  },
  {
   "cell_type": "code",
   "execution_count": 96,
   "metadata": {},
   "outputs": [
    {
     "data": {
      "text/plain": [
       "Text(0.5, 1.0, 'GRAPH')"
      ]
     },
     "execution_count": 96,
     "metadata": {},
     "output_type": "execute_result"
    },
    {
     "data": {
      "image/png": "[encoded data removed]",
      "text/plain": [
       "<Figure size 432x288 with 1 Axes>"
      ]
     },
     "metadata": {
      "needs_background": "light"
     },
     "output_type": "display_data"
    }
   ],
   "source": [
    "fig=plt.figure()\n",
    "ax=fig.add_axes([0.1,0.1,1,1])\n",
    "ax.plot(m,y,c='red',alpha=0.6,marker='^',lw=3,label='sine')\n",
    "ax.plot(m,z,c='green',alpha=0.7,marker='*',label='cosine')\n",
    "ax.set_xlim(0,10)\n",
    "ax.set_ylim(-1,1)\n",
    "ax.legend()\n",
    "ax.set_xlabel(\"Time\")\n",
    "ax.set_ylabel(\"AMP\")\n",
    "ax.set_title(\"GRAPH\")"
   ]
  },
  {
   "cell_type": "markdown",
   "metadata": {},
   "source": [
    "# SUBPLOTS"
   ]
  },
  {
   "cell_type": "code",
   "execution_count": 109,
   "metadata": {},
   "outputs": [
    {
     "data": {
      "text/plain": [
       "[<matplotlib.lines.Line2D at 0x151c26507c8>]"
      ]
     },
     "execution_count": 109,
     "metadata": {},
     "output_type": "execute_result"
    },
    {
     "data": {
      "image/png": "[encoded data removed]",
      "text/plain": [
       "<Figure size 1440x360 with 2 Axes>"
      ]
     },
     "metadata": {
      "needs_background": "light"
     },
     "output_type": "display_data"
    }
   ],
   "source": [
    "fig1,ax1=plt.subplots(nrows=1,ncols=2,figsize=(20,5))\n",
    "ax1[0].plot(m,y,c='pink')\n",
    "ax1[1].plot(m,z,c='grey')"
   ]
  },
  {
   "cell_type": "code",
   "execution_count": 122,
   "metadata": {},
   "outputs": [],
   "source": [
    "i=[1,2,3,4,5,6,7,8,9]\n",
    "j=[7,6,5,4,3,3,4,5,6]"
   ]
  },
  {
   "cell_type": "code",
   "execution_count": 123,
   "metadata": {},
   "outputs": [
    {
     "data": {
      "text/plain": [
       "<BarContainer object of 9 artists>"
      ]
     },
     "execution_count": 123,
     "metadata": {},
     "output_type": "execute_result"
    },
    {
     "data": {
      "image/png": "[encoded data removed]",
      "text/plain": [
       "<Figure size 432x288 with 1 Axes>"
      ]
     },
     "metadata": {
      "needs_background": "light"
     },
     "output_type": "display_data"
    }
   ],
   "source": [
    "plt.bar(i,j)"
   ]
  },
  {
   "cell_type": "code",
   "execution_count": 113,
   "metadata": {},
   "outputs": [
    {
     "data": {
      "text/plain": [
       "<matplotlib.collections.PathCollection at 0x151c26f70c8>"
      ]
     },
     "execution_count": 113,
     "metadata": {},
     "output_type": "execute_result"
    },
    {
     "data": {
      "image/png": "[encoded data removed]",
      "text/plain": [
       "<Figure size 432x288 with 1 Axes>"
      ]
     },
     "metadata": {
      "needs_background": "light"
     },
     "output_type": "display_data"
    }
   ],
   "source": [
    "plt.scatter(i,j)"
   ]
  },
  {
   "cell_type": "code",
   "execution_count": 119,
   "metadata": {},
   "outputs": [
    {
     "data": {
      "text/plain": [
       "(array([2., 0., 2., 0., 0., 2., 0., 2., 0., 1.]),\n",
       " array([3. , 3.4, 3.8, 4.2, 4.6, 5. , 5.4, 5.8, 6.2, 6.6, 7. ]),\n",
       " <a list of 10 Patch objects>)"
      ]
     },
     "execution_count": 119,
     "metadata": {},
     "output_type": "execute_result"
    },
    {
     "data": {
      "image/png": "[encoded data removed]",
      "text/plain": [
       "<Figure size 432x288 with 1 Axes>"
      ]
     },
     "metadata": {
      "needs_background": "light"
     },
     "output_type": "display_data"
    }
   ],
   "source": [
    "plt.hist(j)\n"
   ]
  },
  {
   "cell_type": "code",
   "execution_count": 124,
   "metadata": {},
   "outputs": [
    {
     "data": {
      "image/png": "[encoded data removed]",
      "text/plain": [
       "<Figure size 432x288 with 1 Axes>"
      ]
     },
     "metadata": {
      "needs_background": "light"
     },
     "output_type": "display_data"
    }
   ],
   "source": [
    "plt.box(i)"
   ]
  },
  {
   "cell_type": "code",
   "execution_count": 126,
   "metadata": {},
   "outputs": [
    {
     "name": "stdout",
     "output_type": "stream",
     "text": [
      "Collecting plotly\n",
      "Note: you may need to restart the kernel to use updated packages.\n"
     ]
    },
    {
     "name": "stderr",
     "output_type": "stream",
     "text": [
      "  WARNING: Retrying (Retry(total=4, connect=None, read=None, redirect=None, status=None)) after connection broken by 'NewConnectionError('<pip._vendor.urllib3.connection.VerifiedHTTPSConnection object at 0x00000251680932C8>: Failed to establish a new connection: [Errno 11001] getaddrinfo failed')': /simple/plotly/\n",
      "  WARNING: Retrying (Retry(total=3, connect=None, read=None, redirect=None, status=None)) after connection broken by 'NewConnectionError('<pip._vendor.urllib3.connection.VerifiedHTTPSConnection object at 0x0000025168093448>: Failed to establish a new connection: [Errno 11001] getaddrinfo failed')': /simple/plotly/\n",
      "  WARNING: Retrying (Retry(total=2, connect=None, read=None, redirect=None, status=None)) after connection broken by 'NewConnectionError('<pip._vendor.urllib3.connection.VerifiedHTTPSConnection object at 0x0000025168093B08>: Failed to establish a new connection: [Errno 11001] getaddrinfo failed')': /simple/plotly/\n",
      "  WARNING: Retrying (Retry(total=1, connect=None, read=None, redirect=None, status=None)) after connection broken by 'NewConnectionError('<pip._vendor.urllib3.connection.VerifiedHTTPSConnection object at 0x0000025168094548>: Failed to establish a new connection: [Errno 11001] getaddrinfo failed')': /simple/plotly/\n",
      "  WARNING: Retrying (Retry(total=0, connect=None, read=None, redirect=None, status=None)) after connection broken by 'NewConnectionError('<pip._vendor.urllib3.connection.VerifiedHTTPSConnection object at 0x0000025168094FC8>: Failed to establish a new connection: [Errno 11001] getaddrinfo failed')': /simple/plotly/\n",
      "  ERROR: Could not find a version that satisfies the requirement plotly (from versions: none)\n",
      "ERROR: No matching distribution found for plotly\n"
     ]
    }
   ],
   "source": [
    "pip install plotly"
   ]
  },
  {
   "cell_type": "code",
   "execution_count": 1,
   "metadata": {},
   "outputs": [
    {
     "ename": "ModuleNotFoundError",
     "evalue": "No module named 'plotly'",
     "output_type": "error",
     "traceback": [
      "\u001b[1;31m---------------------------------------------------------------------------\u001b[0m",
      "\u001b[1;31mModuleNotFoundError\u001b[0m                       Traceback (most recent call last)",
      "\u001b[1;32m<ipython-input-1-cdd91f977730>\u001b[0m in \u001b[0;36m<module>\u001b[1;34m\u001b[0m\n\u001b[1;32m----> 1\u001b[1;33m \u001b[1;32mimport\u001b[0m \u001b[0mplotly\u001b[0m\u001b[1;33m.\u001b[0m\u001b[0moffline\u001b[0m \u001b[1;32mas\u001b[0m \u001b[0mplo\u001b[0m\u001b[1;33m\u001b[0m\u001b[1;33m\u001b[0m\u001b[0m\n\u001b[0m",
      "\u001b[1;31mModuleNotFoundError\u001b[0m: No module named 'plotly'"
     ]
    }
   ],
   "source": [
    "import plotly.offline as plo"
   ]
  },
  {
   "cell_type": "code",
   "execution_count": 2,
   "metadata": {},
   "outputs": [
    {
     "name": "stdout",
     "output_type": "stream",
     "text": [
      "Collecting plotly==4.7.1\n",
      "  Downloading https://files.pythonhosted.org/packages/d7/78/eb6cbe96c8379c54819592bb228c58ed7386fcc60a55eca7db99432fdf14/plotly-4.7.1-py2.py3-none-any.whl (11.5MB)\n",
      "Collecting retrying>=1.3.3 (from plotly==4.7.1)\n",
      "  Downloading https://files.pythonhosted.org/packages/44/ef/beae4b4ef80902f22e3af073397f079c96969c69b2c7d52a57ea9ae61c9d/retrying-1.3.3.tar.gz\n",
      "Requirement already satisfied: six in c:\\users\\pravleen\\anaconda3\\lib\\site-packages (from plotly==4.7.1) (1.12.0)\n",
      "Building wheels for collected packages: retrying\n",
      "  Building wheel for retrying (setup.py): started\n",
      "  Building wheel for retrying (setup.py): finished with status 'done'\n",
      "  Created wheel for retrying: filename=retrying-1.3.3-cp37-none-any.whl size=11435 sha256=77f0ae2ef803dbc53946fec42502e1229fbb19c99f83a0f1ad47fee388a2c7b5\n",
      "  Stored in directory: C:\\Users\\Pravleen\\AppData\\Local\\pip\\Cache\\wheels\\d7\\a9\\33\\acc7b709e2a35caa7d4cae442f6fe6fbf2c43f80823d46460c\n",
      "Successfully built retrying\n",
      "Installing collected packages: retrying, plotly\n",
      "Successfully installed plotly-4.7.1 retrying-1.3.3\n",
      "Note: you may need to restart the kernel to use updated packages.\n"
     ]
    }
   ],
   "source": [
    "pip install plotly==4.7.1"
   ]
  },
  {
   "cell_type": "code",
   "execution_count": 4,
   "metadata": {},
   "outputs": [],
   "source": [
    "import plotly.offline as pyo"
   ]
  },
  {
   "cell_type": "code",
   "execution_count": 5,
   "metadata": {},
   "outputs": [],
   "source": [
    "import numpy as np"
   ]
  },
  {
   "cell_type": "code",
   "execution_count": 6,
   "metadata": {},
   "outputs": [],
   "source": [
    "import pandas as pd"
   ]
  },
  {
   "cell_type": "code",
   "execution_count": 7,
   "metadata": {},
   "outputs": [],
   "source": [
    "import matplotlib.pyplot as plt"
   ]
  },
  {
   "cell_type": "code",
   "execution_count": 97,
   "metadata": {},
   "outputs": [
    {
     "data": {
      "text/html": [
       "<div>\n",
       "<style scoped>\n",
       "    .dataframe tbody tr th:only-of-type {\n",
       "        vertical-align: middle;\n",
       "    }\n",
       "\n",
       "    .dataframe tbody tr th {\n",
       "        vertical-align: top;\n",
       "    }\n",
       "\n",
       "    .dataframe thead th {\n",
       "        text-align: right;\n",
       "    }\n",
       "</style>\n",
       "<table border=\"1\" class=\"dataframe\">\n",
       "  <thead>\n",
       "    <tr style=\"text-align: right;\">\n",
       "      <th></th>\n",
       "      <th>C1</th>\n",
       "    </tr>\n",
       "  </thead>\n",
       "  <tbody>\n",
       "    <tr>\n",
       "      <td>0</td>\n",
       "      <td>0.157854</td>\n",
       "    </tr>\n",
       "    <tr>\n",
       "      <td>1</td>\n",
       "      <td>-1.547564</td>\n",
       "    </tr>\n",
       "    <tr>\n",
       "      <td>2</td>\n",
       "      <td>-0.326458</td>\n",
       "    </tr>\n",
       "    <tr>\n",
       "      <td>3</td>\n",
       "      <td>0.074029</td>\n",
       "    </tr>\n",
       "    <tr>\n",
       "      <td>4</td>\n",
       "      <td>0.416422</td>\n",
       "    </tr>\n",
       "    <tr>\n",
       "      <td>5</td>\n",
       "      <td>-0.364454</td>\n",
       "    </tr>\n",
       "    <tr>\n",
       "      <td>6</td>\n",
       "      <td>1.885140</td>\n",
       "    </tr>\n",
       "    <tr>\n",
       "      <td>7</td>\n",
       "      <td>1.358818</td>\n",
       "    </tr>\n",
       "    <tr>\n",
       "      <td>8</td>\n",
       "      <td>0.152540</td>\n",
       "    </tr>\n",
       "    <tr>\n",
       "      <td>9</td>\n",
       "      <td>0.243240</td>\n",
       "    </tr>\n",
       "  </tbody>\n",
       "</table>\n",
       "</div>"
      ],
      "text/plain": [
       "         C1\n",
       "0  0.157854\n",
       "1 -1.547564\n",
       "2 -0.326458\n",
       "3  0.074029\n",
       "4  0.416422\n",
       "5 -0.364454\n",
       "6  1.885140\n",
       "7  1.358818\n",
       "8  0.152540\n",
       "9  0.243240"
      ]
     },
     "execution_count": 97,
     "metadata": {},
     "output_type": "execute_result"
    }
   ],
   "source": [
    "d1f=pd.DataFrame(np.random.randn(10,1),columns=['C1'])\n",
    "d1f"
   ]
  },
  {
   "cell_type": "code",
   "execution_count": 98,
   "metadata": {},
   "outputs": [
    {
     "data": {
      "text/plain": [
       "<matplotlib.axes._subplots.AxesSubplot at 0x20612ad60c8>"
      ]
     },
     "execution_count": 98,
     "metadata": {},
     "output_type": "execute_result"
    },
    {
     "data": {
      "image/png": "[encoded data removed]",
      "text/plain": [
       "<Figure size 432x288 with 1 Axes>"
      ]
     },
     "metadata": {
      "needs_background": "light"
     },
     "output_type": "display_data"
    }
   ],
   "source": [
    "d1f.plot()\n"
   ]
  },
  {
   "cell_type": "code",
   "execution_count": 99,
   "metadata": {},
   "outputs": [],
   "source": [
    "data=[{\n",
    "    'x' :d1f.index,\n",
    "    'y' :d1f['C1']\n",
    "}]"
   ]
  },
  {
   "cell_type": "code",
   "execution_count": 100,
   "metadata": {},
   "outputs": [
    {
     "data": {
      "text/plain": [
       "'basic_plot.html'"
      ]
     },
     "execution_count": 100,
     "metadata": {},
     "output_type": "execute_result"
    }
   ],
   "source": [
    "pyo.plot(data,filename='basic_plot.html')"
   ]
  },
  {
   "cell_type": "code",
   "execution_count": 101,
   "metadata": {},
   "outputs": [
    {
     "data": {
      "text/html": [
       "<div>\n",
       "<style scoped>\n",
       "    .dataframe tbody tr th:only-of-type {\n",
       "        vertical-align: middle;\n",
       "    }\n",
       "\n",
       "    .dataframe tbody tr th {\n",
       "        vertical-align: top;\n",
       "    }\n",
       "\n",
       "    .dataframe thead th {\n",
       "        text-align: right;\n",
       "    }\n",
       "</style>\n",
       "<table border=\"1\" class=\"dataframe\">\n",
       "  <thead>\n",
       "    <tr style=\"text-align: right;\">\n",
       "      <th></th>\n",
       "      <th>C1</th>\n",
       "      <th>C2</th>\n",
       "      <th>C3</th>\n",
       "    </tr>\n",
       "  </thead>\n",
       "  <tbody>\n",
       "    <tr>\n",
       "      <td>0</td>\n",
       "      <td>0.968853</td>\n",
       "      <td>0.020017</td>\n",
       "      <td>-0.564434</td>\n",
       "    </tr>\n",
       "    <tr>\n",
       "      <td>1</td>\n",
       "      <td>0.288920</td>\n",
       "      <td>1.022700</td>\n",
       "      <td>-0.238396</td>\n",
       "    </tr>\n",
       "    <tr>\n",
       "      <td>2</td>\n",
       "      <td>0.686017</td>\n",
       "      <td>-0.665125</td>\n",
       "      <td>0.898313</td>\n",
       "    </tr>\n",
       "    <tr>\n",
       "      <td>3</td>\n",
       "      <td>1.332686</td>\n",
       "      <td>-0.216917</td>\n",
       "      <td>0.738917</td>\n",
       "    </tr>\n",
       "    <tr>\n",
       "      <td>4</td>\n",
       "      <td>-1.495616</td>\n",
       "      <td>1.201889</td>\n",
       "      <td>1.045184</td>\n",
       "    </tr>\n",
       "    <tr>\n",
       "      <td>5</td>\n",
       "      <td>-0.634688</td>\n",
       "      <td>-0.005379</td>\n",
       "      <td>0.260754</td>\n",
       "    </tr>\n",
       "    <tr>\n",
       "      <td>6</td>\n",
       "      <td>1.540675</td>\n",
       "      <td>-0.541121</td>\n",
       "      <td>-0.925060</td>\n",
       "    </tr>\n",
       "    <tr>\n",
       "      <td>7</td>\n",
       "      <td>-2.291422</td>\n",
       "      <td>1.027641</td>\n",
       "      <td>0.956455</td>\n",
       "    </tr>\n",
       "    <tr>\n",
       "      <td>8</td>\n",
       "      <td>-0.787521</td>\n",
       "      <td>0.010526</td>\n",
       "      <td>-2.044342</td>\n",
       "    </tr>\n",
       "    <tr>\n",
       "      <td>9</td>\n",
       "      <td>1.605741</td>\n",
       "      <td>-0.360977</td>\n",
       "      <td>-0.810001</td>\n",
       "    </tr>\n",
       "  </tbody>\n",
       "</table>\n",
       "</div>"
      ],
      "text/plain": [
       "         C1        C2        C3\n",
       "0  0.968853  0.020017 -0.564434\n",
       "1  0.288920  1.022700 -0.238396\n",
       "2  0.686017 -0.665125  0.898313\n",
       "3  1.332686 -0.216917  0.738917\n",
       "4 -1.495616  1.201889  1.045184\n",
       "5 -0.634688 -0.005379  0.260754\n",
       "6  1.540675 -0.541121 -0.925060\n",
       "7 -2.291422  1.027641  0.956455\n",
       "8 -0.787521  0.010526 -2.044342\n",
       "9  1.605741 -0.360977 -0.810001"
      ]
     },
     "execution_count": 101,
     "metadata": {},
     "output_type": "execute_result"
    }
   ],
   "source": [
    "d2f=pd.DataFrame(data=np.random.randn(10,3),columns=['C1','C2','C3'])\n",
    "d2f"
   ]
  },
  {
   "cell_type": "code",
   "execution_count": 102,
   "metadata": {},
   "outputs": [
    {
     "data": {
      "text/plain": [
       "<matplotlib.axes._subplots.AxesSubplot at 0x20612924e48>"
      ]
     },
     "execution_count": 102,
     "metadata": {},
     "output_type": "execute_result"
    },
    {
     "data": {
      "image/png": "[encoded data removed]",
      "text/plain": [
       "<Figure size 432x288 with 1 Axes>"
      ]
     },
     "metadata": {
      "needs_background": "light"
     },
     "output_type": "display_data"
    }
   ],
   "source": [
    "d2f.plot()\n"
   ]
  },
  {
   "cell_type": "code",
   "execution_count": 117,
   "metadata": {},
   "outputs": [
    {
     "ename": "KeyError",
     "evalue": "('C1', 'C2', 'C3')",
     "output_type": "error",
     "traceback": [
      "\u001b[1;31m---------------------------------------------------------------------------\u001b[0m",
      "\u001b[1;31mKeyError\u001b[0m                                  Traceback (most recent call last)",
      "\u001b[1;32m~\\Anaconda3\\lib\\site-packages\\pandas\\core\\indexes\\base.py\u001b[0m in \u001b[0;36mget_loc\u001b[1;34m(self, key, method, tolerance)\u001b[0m\n\u001b[0;32m   2896\u001b[0m             \u001b[1;32mtry\u001b[0m\u001b[1;33m:\u001b[0m\u001b[1;33m\u001b[0m\u001b[1;33m\u001b[0m\u001b[0m\n\u001b[1;32m-> 2897\u001b[1;33m                 \u001b[1;32mreturn\u001b[0m \u001b[0mself\u001b[0m\u001b[1;33m.\u001b[0m\u001b[0m_engine\u001b[0m\u001b[1;33m.\u001b[0m\u001b[0mget_loc\u001b[0m\u001b[1;33m(\u001b[0m\u001b[0mkey\u001b[0m\u001b[1;33m)\u001b[0m\u001b[1;33m\u001b[0m\u001b[1;33m\u001b[0m\u001b[0m\n\u001b[0m\u001b[0;32m   2898\u001b[0m             \u001b[1;32mexcept\u001b[0m \u001b[0mKeyError\u001b[0m\u001b[1;33m:\u001b[0m\u001b[1;33m\u001b[0m\u001b[1;33m\u001b[0m\u001b[0m\n",
      "\u001b[1;32mpandas\\_libs\\index.pyx\u001b[0m in \u001b[0;36mpandas._libs.index.IndexEngine.get_loc\u001b[1;34m()\u001b[0m\n",
      "\u001b[1;32mpandas\\_libs\\index.pyx\u001b[0m in \u001b[0;36mpandas._libs.index.IndexEngine.get_loc\u001b[1;34m()\u001b[0m\n",
      "\u001b[1;32mpandas\\_libs\\hashtable_class_helper.pxi\u001b[0m in \u001b[0;36mpandas._libs.hashtable.PyObjectHashTable.get_item\u001b[1;34m()\u001b[0m\n",
      "\u001b[1;32mpandas\\_libs\\hashtable_class_helper.pxi\u001b[0m in \u001b[0;36mpandas._libs.hashtable.PyObjectHashTable.get_item\u001b[1;34m()\u001b[0m\n",
      "\u001b[1;31mKeyError\u001b[0m: ('C1', 'C2', 'C3')",
      "\nDuring handling of the above exception, another exception occurred:\n",
      "\u001b[1;31mKeyError\u001b[0m                                  Traceback (most recent call last)",
      "\u001b[1;32m<ipython-input-117-fc936c725185>\u001b[0m in \u001b[0;36m<module>\u001b[1;34m\u001b[0m\n\u001b[0;32m      1\u001b[0m data1=[{\n\u001b[0;32m      2\u001b[0m     \u001b[1;34m'x'\u001b[0m \u001b[1;33m:\u001b[0m\u001b[0md2f\u001b[0m\u001b[1;33m.\u001b[0m\u001b[0mindex\u001b[0m\u001b[1;33m,\u001b[0m\u001b[1;33m\u001b[0m\u001b[1;33m\u001b[0m\u001b[0m\n\u001b[1;32m----> 3\u001b[1;33m     \u001b[1;34m'y'\u001b[0m \u001b[1;33m:\u001b[0m\u001b[0md2f\u001b[0m\u001b[1;33m[\u001b[0m\u001b[1;34m'C1'\u001b[0m\u001b[1;33m,\u001b[0m\u001b[1;34m'C2'\u001b[0m\u001b[1;33m,\u001b[0m\u001b[1;34m'C3'\u001b[0m\u001b[1;33m]\u001b[0m\u001b[1;33m,\u001b[0m\u001b[1;33m\u001b[0m\u001b[1;33m\u001b[0m\u001b[0m\n\u001b[0m\u001b[0;32m      4\u001b[0m     \u001b[0mtype\u001b[0m\u001b[1;33m:\u001b[0m\u001b[1;34m'line'\u001b[0m\u001b[1;33m\u001b[0m\u001b[1;33m\u001b[0m\u001b[0m\n\u001b[0;32m      5\u001b[0m }]\n",
      "\u001b[1;32m~\\Anaconda3\\lib\\site-packages\\pandas\\core\\frame.py\u001b[0m in \u001b[0;36m__getitem__\u001b[1;34m(self, key)\u001b[0m\n\u001b[0;32m   2978\u001b[0m             \u001b[1;32mif\u001b[0m \u001b[0mself\u001b[0m\u001b[1;33m.\u001b[0m\u001b[0mcolumns\u001b[0m\u001b[1;33m.\u001b[0m\u001b[0mnlevels\u001b[0m \u001b[1;33m>\u001b[0m \u001b[1;36m1\u001b[0m\u001b[1;33m:\u001b[0m\u001b[1;33m\u001b[0m\u001b[1;33m\u001b[0m\u001b[0m\n\u001b[0;32m   2979\u001b[0m                 \u001b[1;32mreturn\u001b[0m \u001b[0mself\u001b[0m\u001b[1;33m.\u001b[0m\u001b[0m_getitem_multilevel\u001b[0m\u001b[1;33m(\u001b[0m\u001b[0mkey\u001b[0m\u001b[1;33m)\u001b[0m\u001b[1;33m\u001b[0m\u001b[1;33m\u001b[0m\u001b[0m\n\u001b[1;32m-> 2980\u001b[1;33m             \u001b[0mindexer\u001b[0m \u001b[1;33m=\u001b[0m \u001b[0mself\u001b[0m\u001b[1;33m.\u001b[0m\u001b[0mcolumns\u001b[0m\u001b[1;33m.\u001b[0m\u001b[0mget_loc\u001b[0m\u001b[1;33m(\u001b[0m\u001b[0mkey\u001b[0m\u001b[1;33m)\u001b[0m\u001b[1;33m\u001b[0m\u001b[1;33m\u001b[0m\u001b[0m\n\u001b[0m\u001b[0;32m   2981\u001b[0m             \u001b[1;32mif\u001b[0m \u001b[0mis_integer\u001b[0m\u001b[1;33m(\u001b[0m\u001b[0mindexer\u001b[0m\u001b[1;33m)\u001b[0m\u001b[1;33m:\u001b[0m\u001b[1;33m\u001b[0m\u001b[1;33m\u001b[0m\u001b[0m\n\u001b[0;32m   2982\u001b[0m                 \u001b[0mindexer\u001b[0m \u001b[1;33m=\u001b[0m \u001b[1;33m[\u001b[0m\u001b[0mindexer\u001b[0m\u001b[1;33m]\u001b[0m\u001b[1;33m\u001b[0m\u001b[1;33m\u001b[0m\u001b[0m\n",
      "\u001b[1;32m~\\Anaconda3\\lib\\site-packages\\pandas\\core\\indexes\\base.py\u001b[0m in \u001b[0;36mget_loc\u001b[1;34m(self, key, method, tolerance)\u001b[0m\n\u001b[0;32m   2897\u001b[0m                 \u001b[1;32mreturn\u001b[0m \u001b[0mself\u001b[0m\u001b[1;33m.\u001b[0m\u001b[0m_engine\u001b[0m\u001b[1;33m.\u001b[0m\u001b[0mget_loc\u001b[0m\u001b[1;33m(\u001b[0m\u001b[0mkey\u001b[0m\u001b[1;33m)\u001b[0m\u001b[1;33m\u001b[0m\u001b[1;33m\u001b[0m\u001b[0m\n\u001b[0;32m   2898\u001b[0m             \u001b[1;32mexcept\u001b[0m \u001b[0mKeyError\u001b[0m\u001b[1;33m:\u001b[0m\u001b[1;33m\u001b[0m\u001b[1;33m\u001b[0m\u001b[0m\n\u001b[1;32m-> 2899\u001b[1;33m                 \u001b[1;32mreturn\u001b[0m \u001b[0mself\u001b[0m\u001b[1;33m.\u001b[0m\u001b[0m_engine\u001b[0m\u001b[1;33m.\u001b[0m\u001b[0mget_loc\u001b[0m\u001b[1;33m(\u001b[0m\u001b[0mself\u001b[0m\u001b[1;33m.\u001b[0m\u001b[0m_maybe_cast_indexer\u001b[0m\u001b[1;33m(\u001b[0m\u001b[0mkey\u001b[0m\u001b[1;33m)\u001b[0m\u001b[1;33m)\u001b[0m\u001b[1;33m\u001b[0m\u001b[1;33m\u001b[0m\u001b[0m\n\u001b[0m\u001b[0;32m   2900\u001b[0m         \u001b[0mindexer\u001b[0m \u001b[1;33m=\u001b[0m \u001b[0mself\u001b[0m\u001b[1;33m.\u001b[0m\u001b[0mget_indexer\u001b[0m\u001b[1;33m(\u001b[0m\u001b[1;33m[\u001b[0m\u001b[0mkey\u001b[0m\u001b[1;33m]\u001b[0m\u001b[1;33m,\u001b[0m \u001b[0mmethod\u001b[0m\u001b[1;33m=\u001b[0m\u001b[0mmethod\u001b[0m\u001b[1;33m,\u001b[0m \u001b[0mtolerance\u001b[0m\u001b[1;33m=\u001b[0m\u001b[0mtolerance\u001b[0m\u001b[1;33m)\u001b[0m\u001b[1;33m\u001b[0m\u001b[1;33m\u001b[0m\u001b[0m\n\u001b[0;32m   2901\u001b[0m         \u001b[1;32mif\u001b[0m \u001b[0mindexer\u001b[0m\u001b[1;33m.\u001b[0m\u001b[0mndim\u001b[0m \u001b[1;33m>\u001b[0m \u001b[1;36m1\u001b[0m \u001b[1;32mor\u001b[0m \u001b[0mindexer\u001b[0m\u001b[1;33m.\u001b[0m\u001b[0msize\u001b[0m \u001b[1;33m>\u001b[0m \u001b[1;36m1\u001b[0m\u001b[1;33m:\u001b[0m\u001b[1;33m\u001b[0m\u001b[1;33m\u001b[0m\u001b[0m\n",
      "\u001b[1;32mpandas\\_libs\\index.pyx\u001b[0m in \u001b[0;36mpandas._libs.index.IndexEngine.get_loc\u001b[1;34m()\u001b[0m\n",
      "\u001b[1;32mpandas\\_libs\\index.pyx\u001b[0m in \u001b[0;36mpandas._libs.index.IndexEngine.get_loc\u001b[1;34m()\u001b[0m\n",
      "\u001b[1;32mpandas\\_libs\\hashtable_class_helper.pxi\u001b[0m in \u001b[0;36mpandas._libs.hashtable.PyObjectHashTable.get_item\u001b[1;34m()\u001b[0m\n",
      "\u001b[1;32mpandas\\_libs\\hashtable_class_helper.pxi\u001b[0m in \u001b[0;36mpandas._libs.hashtable.PyObjectHashTable.get_item\u001b[1;34m()\u001b[0m\n",
      "\u001b[1;31mKeyError\u001b[0m: ('C1', 'C2', 'C3')"
     ]
    }
   ],
   "source": [
    "data1=[{\n",
    "    'x' :d2f.index,\n",
    "    'y' :d2f['C1','C2','C3'],\n",
    "    type:'line'\n",
    "}]\n",
    "\n"
   ]
  },
  {
   "cell_type": "code",
   "execution_count": 109,
   "metadata": {},
   "outputs": [
    {
     "data": {
      "text/plain": [
       "'py.html'"
      ]
     },
     "execution_count": 109,
     "metadata": {},
     "output_type": "execute_result"
    }
   ],
   "source": [
    "pyo.plot(data1,filename='py.html')"
   ]
  },
  {
   "cell_type": "code",
   "execution_count": 18,
   "metadata": {},
   "outputs": [],
   "source": [
    "import plotly.graph_objs as go"
   ]
  },
  {
   "cell_type": "code",
   "execution_count": 59,
   "metadata": {},
   "outputs": [],
   "source": [
    "a=np.arange(0,20,2)\n",
    "b=np.random.randint(1,20,20)\n",
    "\n",
    "  "
   ]
  },
  {
   "cell_type": "code",
   "execution_count": 90,
   "metadata": {},
   "outputs": [],
   "source": [
    "t1=go.Scatter(x=a,y=b,mode='lines +markers',name='SOMETHING')\n",
    "t2=go.Scatter(x=a,y=b+6,mode='lines ',name='VNFJNV',)\n",
    "data1=[t1,t2]"
   ]
  },
  {
   "cell_type": "code",
   "execution_count": 91,
   "metadata": {},
   "outputs": [
    {
     "data": {
      "text/plain": [
       "'Scatter_plot.html'"
      ]
     },
     "execution_count": 91,
     "metadata": {},
     "output_type": "execute_result"
    }
   ],
   "source": [
    "pyo.plot(data1,filename='Scatter_plot.html')\n",
    "\n"
   ]
  },
  {
   "cell_type": "markdown",
   "metadata": {},
   "source": [
    "# BARCHART"
   ]
  },
  {
   "cell_type": "code",
   "execution_count": 63,
   "metadata": {},
   "outputs": [],
   "source": [
    "d=[go.Bar(\n",
    "    x=['Grade-1','Grade-2','Grade-3'],\n",
    "    y=[89,88,66]\n",
    ")]"
   ]
  },
  {
   "cell_type": "code",
   "execution_count": 64,
   "metadata": {},
   "outputs": [
    {
     "data": {
      "text/plain": [
       "'Bar.html'"
      ]
     },
     "execution_count": 64,
     "metadata": {},
     "output_type": "execute_result"
    }
   ],
   "source": [
    "pyo.plot(d,filename='Bar.html')"
   ]
  },
  {
   "cell_type": "code",
   "execution_count": null,
   "metadata": {},
   "outputs": [],
   "source": []
  }
 ],
 "metadata": {
  "kernelspec": {
   "display_name": "Python 3",
   "language": "python",
   "name": "python3"
  },
  "language_info": {
   "codemirror_mode": {
    "name": "ipython",
    "version": 3
   },
   "file_extension": ".py",
   "mimetype": "text/x-python",
   "name": "python",
   "nbconvert_exporter": "python",
   "pygments_lexer": "ipython3",
   "version": "3.7.4"
  }
 },
 "nbformat": 4,
 "nbformat_minor": 2
}
