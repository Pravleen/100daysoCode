{
 "cells": [
  {
   "cell_type": "code",
   "execution_count": 1,
   "metadata": {},
   "outputs": [
    {
     "name": "stdout",
     "output_type": "stream",
     "text": [
      "2\n",
      "5 1\n",
      "1 2 3 4 5\n",
      "4\n",
      "3 1\n",
      "7 2 4\n",
      "5\n"
     ]
    }
   ],
   "source": [
    "T=int(input())\n",
    "for i in range(0,T):\n",
    "    a=[]\n",
    "    N,M=map(int,input().split(\" \"))\n",
    "    l=map(int,input().split(\" \"))\n",
    "    for n in l:\n",
    "        a.append(n)\n",
    "    for x in range(0,len(a)):\n",
    "        for y in range(0,len(a)-x-1):\n",
    "            if(a[y]<a[y+1]):\n",
    "                t=a[y]\n",
    "                a[y]=a[y+1]\n",
    "                a[y+1]=t\n",
    "    l1=N-M\n",
    "    sum1=0\n",
    "    sum2=0\n",
    "    for j in range(-1,(-l1-1),-1):   \n",
    "        sum1=a[j]+sum1\n",
    "    for j in range(0,l1):\n",
    "        sum2=a[j]+sum2\n",
    "    print(abs(sum1-sum2))\n",
    "\n",
    "\n"
   ]
  },
  {
   "cell_type": "code",
   "execution_count": null,
   "metadata": {},
   "outputs": [],
   "source": []
  }
 ],
 "metadata": {
  "kernelspec": {
   "display_name": "Python 3",
   "language": "python",
   "name": "python3"
  },
  "language_info": {
   "codemirror_mode": {
    "name": "ipython",
    "version": 3
   },
   "file_extension": ".py",
   "mimetype": "text/x-python",
   "name": "python",
   "nbconvert_exporter": "python",
   "pygments_lexer": "ipython3",
   "version": "3.8.3"
  }
 },
 "nbformat": 4,
 "nbformat_minor": 4
}
