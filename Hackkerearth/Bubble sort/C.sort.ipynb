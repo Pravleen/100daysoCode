{
 "cells": [
  {
   "cell_type": "code",
   "execution_count": 13,
   "metadata": {},
   "outputs": [
    {
     "name": "stdout",
     "output_type": "stream",
     "text": [
      "5\n",
      "1 3 2 4 6\n",
      "[1, 2, 3, 4, 6]\n",
      "0 2 1 3 4 "
     ]
    }
   ],
   "source": [
    "copy=[]\n",
    "m=int(input())\n",
    "arr=list(map(int,input().split(\" \")))         \n",
    "for i in range(0,m):\n",
    "         copy.append(arr[i])\n",
    "for i in range(0,m):\n",
    "    for j in range(0,(m-i-1)):\n",
    "        if(arr[j]>arr[j+1]):\n",
    "            temp=arr[j]\n",
    "            arr[j]=arr[j+1]\n",
    "            arr[j+1]=temp\n",
    "print(arr)\n",
    "for i in range(0,m):\n",
    "    for j in range(0,(m)):\n",
    "        if(arr[i]==copy[j]):\n",
    "            print(j,end=\" \")\n"
   ]
  },
  {
   "cell_type": "code",
   "execution_count": null,
   "metadata": {},
   "outputs": [],
   "source": []
  }
 ],
 "metadata": {
  "kernelspec": {
   "display_name": "Python 3",
   "language": "python",
   "name": "python3"
  },
  "language_info": {
   "codemirror_mode": {
    "name": "ipython",
    "version": 3
   },
   "file_extension": ".py",
   "mimetype": "text/x-python",
   "name": "python",
   "nbconvert_exporter": "python",
   "pygments_lexer": "ipython3",
   "version": "3.8.3"
  }
 },
 "nbformat": 4,
 "nbformat_minor": 4
}
