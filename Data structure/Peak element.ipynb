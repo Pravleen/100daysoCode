{
 "cells": [
  {
   "cell_type": "markdown",
   "metadata": {},
   "source": [
    "## FIND A PEAK ELEMENT 1-D ARRAY"
   ]
  },
  {
   "cell_type": "markdown",
   "metadata": {},
   "source": [
    "ALGORITHM:-<br>\n",
    "Start from left to right<b><br>\n",
    "check for a peak(if number is greater than its neighbour its a peak,for edges only check for coreesponding elements)<br>\n",
    "Worst case complexity(theta(n))"
   ]
  },
  {
   "cell_type": "code",
   "execution_count": 5,
   "metadata": {},
   "outputs": [
    {
     "name": "stdout",
     "output_type": "stream",
     "text": [
      "4\n"
     ]
    }
   ],
   "source": [
    "def peak(l,n):\n",
    "    if n==1:\n",
    "        return 1\n",
    "    elif l[0]>=l[1]:\n",
    "        return 0\n",
    "    elif l[n-1]>=l[n-2]:\n",
    "        return n-1\n",
    "    for i in range(1,n-1):\n",
    "        if(l[i]>=l[i-1] and l[i]>=l[i+1]):\n",
    "            return i\n",
    "l=[1, 3, 4, 1, 0 ,21,5]\n",
    "n=len(l)\n",
    "i=peak(l,n)\n",
    "print(l[i])"
   ]
  },
  {
   "cell_type": "markdown",
   "metadata": {},
   "source": [
    "#### We can reduce the complexity of above the program using divide and conquer!!!"
   ]
  },
  {
   "cell_type": "markdown",
   "metadata": {},
   "source": [
    "For divide and conquer we will look for n/2 position that is middle <br>\n",
    "if a[n/2]<a[n/2-1] then only look at left side 1....n/2-1<br>\n",
    "else if a[n/2]<a[n/2+1] then only look at right side n/2+1....n<br>\n",
    "else middle element is the peak<br>\n",
    "Compexity:- O(Logn)"
   ]
  },
  {
   "cell_type": "code",
   "execution_count": 9,
   "metadata": {},
   "outputs": [
    {
     "name": "stdout",
     "output_type": "stream",
     "text": [
      "4\n"
     ]
    }
   ],
   "source": [
    "def peak(l,s,e,n):\n",
    "    m=int(s+(e-s)/2)\n",
    "    if l[m]<=l[m-1]:\n",
    "        return peak(l,s,m-1,n)\n",
    "    elif l[m]<l[m+1]:\n",
    "        return peak(l,m+1,e,n)\n",
    "    else:\n",
    "        return m\n",
    "            \n",
    "            \n",
    "l=[1, 3, 4, 1, 0 ,21,5]\n",
    "n=len(l)\n",
    "i=peak(l,0,n-1,n)\n",
    "print(l[i])"
   ]
  },
  {
   "cell_type": "code",
   "execution_count": null,
   "metadata": {},
   "outputs": [],
   "source": []
  }
 ],
 "metadata": {
  "kernelspec": {
   "display_name": "Python 3",
   "language": "python",
   "name": "python3"
  },
  "language_info": {
   "codemirror_mode": {
    "name": "ipython",
    "version": 3
   },
   "file_extension": ".py",
   "mimetype": "text/x-python",
   "name": "python",
   "nbconvert_exporter": "python",
   "pygments_lexer": "ipython3",
   "version": "3.8.3"
  }
 },
 "nbformat": 4,
 "nbformat_minor": 4
}
