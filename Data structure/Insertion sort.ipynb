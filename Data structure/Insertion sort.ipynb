{
 "cells": [
  {
   "cell_type": "markdown",
   "metadata": {},
   "source": [
    "# INSERTION SORTING"
   ]
  },
  {
   "cell_type": "code",
   "execution_count": 1,
   "metadata": {},
   "outputs": [
    {
     "name": "stdout",
     "output_type": "stream",
     "text": [
      "2 3 1 6 7\n",
      "1 2 3 6 7\n"
     ]
    }
   ],
   "source": [
    "n=map(int,input().split(\" \"))\n",
    "l=[]\n",
    "for i in n:\n",
    "    l.append(i)\n",
    "for j in range(1,len(l)):\n",
    "    temp=l[j]\n",
    "    k=j-1\n",
    "    while(k>=0 and l[k]>temp):\n",
    "        l[k+1]=l[k]\n",
    "        k-=1\n",
    "    l[k+1]=temp\n",
    "sep =\" \"\n",
    "print(sep.join(map(str,l)))"
   ]
  },
  {
   "cell_type": "code",
   "execution_count": null,
   "metadata": {},
   "outputs": [],
   "source": []
  }
 ],
 "metadata": {
  "kernelspec": {
   "display_name": "Python 3",
   "language": "python",
   "name": "python3"
  },
  "language_info": {
   "codemirror_mode": {
    "name": "ipython",
    "version": 3
   },
   "file_extension": ".py",
   "mimetype": "text/x-python",
   "name": "python",
   "nbconvert_exporter": "python",
   "pygments_lexer": "ipython3",
   "version": "3.8.3"
  }
 },
 "nbformat": 4,
 "nbformat_minor": 4
}
