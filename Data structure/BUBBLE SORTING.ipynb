{
 "cells": [
  {
   "cell_type": "markdown",
   "metadata": {},
   "source": [
    "# BUBBLE SORTING"
   ]
  },
  {
   "cell_type": "code",
   "execution_count": 5,
   "metadata": {},
   "outputs": [
    {
     "name": "stdout",
     "output_type": "stream",
     "text": [
      "7 4 5 2\n",
      "2 4 5 7\n"
     ]
    }
   ],
   "source": [
    "n=map(int,input().split(\" \"))\n",
    "l=[]\n",
    "for k in n:\n",
    "    l.append(k)\n",
    "\n",
    "for i in range(0,len(l)):\n",
    "    for j in range(0,(len(l)-i-1)):\n",
    "        if(l[j]>l[j+1]):\n",
    "            t=l[j]\n",
    "            l[j]=l[j+1]\n",
    "            l[j+1]=t\n",
    "sep=\" \"\n",
    "print(sep.join(map(str,l)))  \n",
    "        "
   ]
  },
  {
   "cell_type": "code",
   "execution_count": 18,
   "metadata": {},
   "outputs": [
    {
     "name": "stdout",
     "output_type": "stream",
     "text": [
      "2\n",
      "3 2\n",
      "3 4 1\n",
      "3\n",
      "40 12\n",
      "590 245 313 457 519 673 656 257 373 243 206 670 35 32 469 685 741 24 388 765 67 851 917 175 751 122 800 403 361 591 376 302 835 688 758 705 712 766 961 84\n",
      "7770\n"
     ]
    }
   ],
   "source": [
    "T=int(input())\n",
    "for i in range(0,T):\n",
    "    a=[]\n",
    "    N,M=map(int,input().split(\" \"))\n",
    "    l=map(int,input().split(\" \"))\n",
    "    for n in l:\n",
    "        a.append(n)\n",
    "    for x in range(0,len(a)):\n",
    "        for y in range(0,len(a)-x-1):\n",
    "            if(a[y]<a[y+1]):\n",
    "                t=a[y]\n",
    "                a[y]=a[y+1]\n",
    "                a[y+1]=t\n",
    "    l1=N-M\n",
    "    sum1=0\n",
    "    sum2=0\n",
    "    for j in range(-1,(-l1-1),-1):   \n",
    "        sum1=a[j]+sum1\n",
    "    for j in range(0,l1):\n",
    "        sum2=a[j]+sum2\n",
    "    print(abs(sum1-sum2))"
   ]
  },
  {
   "cell_type": "code",
   "execution_count": null,
   "metadata": {},
   "outputs": [],
   "source": []
  }
 ],
 "metadata": {
  "kernelspec": {
   "display_name": "Python 3",
   "language": "python",
   "name": "python3"
  },
  "language_info": {
   "codemirror_mode": {
    "name": "ipython",
    "version": 3
   },
   "file_extension": ".py",
   "mimetype": "text/x-python",
   "name": "python",
   "nbconvert_exporter": "python",
   "pygments_lexer": "ipython3",
   "version": "3.8.3"
  }
 },
 "nbformat": 4,
 "nbformat_minor": 4
}
